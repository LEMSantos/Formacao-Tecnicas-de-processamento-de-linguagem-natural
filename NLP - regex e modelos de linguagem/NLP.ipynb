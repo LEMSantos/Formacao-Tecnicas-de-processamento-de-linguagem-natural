{
 "cells": [
  {
   "cell_type": "code",
   "execution_count": 1,
   "id": "fc1cd8d2-cf7d-4f8b-8083-f983db7239c9",
   "metadata": {},
   "outputs": [],
   "source": [
    "import pandas as pd\n",
    "\n",
    "portuguese_data = pd.read_csv('data/stackoverflow_portugues.csv')\n",
    "english_data = pd.read_csv('data/stackoverflow_ingles.csv')\n",
    "spanish_data = pd.read_csv('data/stackoverflow_espanhol.csv', sep=';', encoding='windows-1258')"
   ]
  },
  {
   "cell_type": "code",
   "execution_count": 2,
   "id": "1f35b5b9-f6ab-4460-8b56-612275069c3f",
   "metadata": {},
   "outputs": [
    {
     "data": {
      "text/html": [
       "<div>\n",
       "<style scoped>\n",
       "    .dataframe tbody tr th:only-of-type {\n",
       "        vertical-align: middle;\n",
       "    }\n",
       "\n",
       "    .dataframe tbody tr th {\n",
       "        vertical-align: top;\n",
       "    }\n",
       "\n",
       "    .dataframe thead th {\n",
       "        text-align: right;\n",
       "    }\n",
       "</style>\n",
       "<table border=\"1\" class=\"dataframe\">\n",
       "  <thead>\n",
       "    <tr style=\"text-align: right;\">\n",
       "      <th></th>\n",
       "      <th>Id</th>\n",
       "      <th>Título</th>\n",
       "      <th>Questăo</th>\n",
       "      <th>Tags</th>\n",
       "      <th>Pontuaçăo</th>\n",
       "      <th>Visualizaçơes</th>\n",
       "    </tr>\n",
       "  </thead>\n",
       "  <tbody>\n",
       "    <tr>\n",
       "      <th>0</th>\n",
       "      <td>18232</td>\n",
       "      <td>¿Cómo evitar la inyección SQL en PHP?</td>\n",
       "      <td>&lt;p&gt;Las sentencias dinámicas son sentencias SQL...</td>\n",
       "      <td>&lt;php&gt;&lt;mysql&gt;&lt;sql&gt;&lt;seguridad&gt;&lt;inyección-sql&gt;</td>\n",
       "      <td>169</td>\n",
       "      <td>38614</td>\n",
       "    </tr>\n",
       "    <tr>\n",
       "      <th>1</th>\n",
       "      <td>197</td>\n",
       "      <td>¿Por qué mis programas no pueden hacer cálculo...</td>\n",
       "      <td>&lt;p&gt;Unas veces los cálculos funcionan correctam...</td>\n",
       "      <td>&lt;matemáticas&gt;&lt;coma-flotante&gt;&lt;lenguaje-agnóstico&gt;</td>\n",
       "      <td>141</td>\n",
       "      <td>3860</td>\n",
       "    </tr>\n",
       "    <tr>\n",
       "      <th>2</th>\n",
       "      <td>36</td>\n",
       "      <td>¿Cuál es la diferencia entre un inner y un out...</td>\n",
       "      <td>&lt;p&gt;¿Cuál es la diferencia entre un &lt;code&gt;inner...</td>\n",
       "      <td>&lt;mysql&gt;&lt;sql&gt;&lt;join&gt;</td>\n",
       "      <td>97</td>\n",
       "      <td>53627</td>\n",
       "    </tr>\n",
       "    <tr>\n",
       "      <th>3</th>\n",
       "      <td>29177</td>\n",
       "      <td>¿Por qué es considerado una mala práctica util...</td>\n",
       "      <td>&lt;p&gt;La mayoría de nosotros decimos, (muchas vec...</td>\n",
       "      <td>&lt;variables&gt;&lt;variables-globales&gt;&lt;patrones-de-di...</td>\n",
       "      <td>89</td>\n",
       "      <td>9987</td>\n",
       "    </tr>\n",
       "    <tr>\n",
       "      <th>4</th>\n",
       "      <td>142</td>\n",
       "      <td>Validar un email en JavaScript que acepte todo...</td>\n",
       "      <td>&lt;h3&gt;Pregunta&lt;/h3&gt;\\n\\n&lt;p&gt;¿Cómo validar un e-mai...</td>\n",
       "      <td>&lt;javascript&gt;&lt;validación&gt;&lt;email&gt;&lt;regex&gt;</td>\n",
       "      <td>87</td>\n",
       "      <td>73129</td>\n",
       "    </tr>\n",
       "  </tbody>\n",
       "</table>\n",
       "</div>"
      ],
      "text/plain": [
       "      Id                                             Título  \\\n",
       "0  18232              ¿Cómo evitar la inyección SQL en PHP?   \n",
       "1    197  ¿Por qué mis programas no pueden hacer cálculo...   \n",
       "2     36  ¿Cuál es la diferencia entre un inner y un out...   \n",
       "3  29177  ¿Por qué es considerado una mala práctica util...   \n",
       "4    142  Validar un email en JavaScript que acepte todo...   \n",
       "\n",
       "                                             Questăo  \\\n",
       "0  <p>Las sentencias dinámicas son sentencias SQL...   \n",
       "1  <p>Unas veces los cálculos funcionan correctam...   \n",
       "2  <p>¿Cuál es la diferencia entre un <code>inner...   \n",
       "3  <p>La mayoría de nosotros decimos, (muchas vec...   \n",
       "4  <h3>Pregunta</h3>\\n\\n<p>¿Cómo validar un e-mai...   \n",
       "\n",
       "                                                Tags  Pontuaçăo  Visualizaçơes  \n",
       "0        <php><mysql><sql><seguridad><inyección-sql>        169          38614  \n",
       "1   <matemáticas><coma-flotante><lenguaje-agnóstico>        141           3860  \n",
       "2                                 <mysql><sql><join>         97          53627  \n",
       "3  <variables><variables-globales><patrones-de-di...         89           9987  \n",
       "4             <javascript><validación><email><regex>         87          73129  "
      ]
     },
     "execution_count": 2,
     "metadata": {},
     "output_type": "execute_result"
    }
   ],
   "source": [
    "spanish_data.head()"
   ]
  },
  {
   "cell_type": "code",
   "execution_count": 3,
   "id": "4352c545-ba4a-48b6-9832-6c572e0b593b",
   "metadata": {},
   "outputs": [
    {
     "data": {
      "text/plain": [
       "Index(['Id', 'Título', 'Questăo', 'Tags', 'Pontuaçăo', 'Visualizaçơes'], dtype='object')"
      ]
     },
     "execution_count": 3,
     "metadata": {},
     "output_type": "execute_result"
    }
   ],
   "source": [
    "spanish_data.columns"
   ]
  },
  {
   "cell_type": "code",
   "execution_count": 4,
   "id": "bdba138c-b7d7-45b1-bbd7-83b1f4b3b5fa",
   "metadata": {},
   "outputs": [
    {
     "data": {
      "text/html": [
       "<div>\n",
       "<style scoped>\n",
       "    .dataframe tbody tr th:only-of-type {\n",
       "        vertical-align: middle;\n",
       "    }\n",
       "\n",
       "    .dataframe tbody tr th {\n",
       "        vertical-align: top;\n",
       "    }\n",
       "\n",
       "    .dataframe thead th {\n",
       "        text-align: right;\n",
       "    }\n",
       "</style>\n",
       "<table border=\"1\" class=\"dataframe\">\n",
       "  <thead>\n",
       "    <tr style=\"text-align: right;\">\n",
       "      <th></th>\n",
       "      <th>id</th>\n",
       "      <th>titulo</th>\n",
       "      <th>questao</th>\n",
       "      <th>tags</th>\n",
       "      <th>pontuacao</th>\n",
       "      <th>visualizacoes</th>\n",
       "    </tr>\n",
       "  </thead>\n",
       "  <tbody>\n",
       "    <tr>\n",
       "      <th>0</th>\n",
       "      <td>18232</td>\n",
       "      <td>¿Cómo evitar la inyección SQL en PHP?</td>\n",
       "      <td>&lt;p&gt;Las sentencias dinámicas son sentencias SQL...</td>\n",
       "      <td>&lt;php&gt;&lt;mysql&gt;&lt;sql&gt;&lt;seguridad&gt;&lt;inyección-sql&gt;</td>\n",
       "      <td>169</td>\n",
       "      <td>38614</td>\n",
       "    </tr>\n",
       "    <tr>\n",
       "      <th>1</th>\n",
       "      <td>197</td>\n",
       "      <td>¿Por qué mis programas no pueden hacer cálculo...</td>\n",
       "      <td>&lt;p&gt;Unas veces los cálculos funcionan correctam...</td>\n",
       "      <td>&lt;matemáticas&gt;&lt;coma-flotante&gt;&lt;lenguaje-agnóstico&gt;</td>\n",
       "      <td>141</td>\n",
       "      <td>3860</td>\n",
       "    </tr>\n",
       "    <tr>\n",
       "      <th>2</th>\n",
       "      <td>36</td>\n",
       "      <td>¿Cuál es la diferencia entre un inner y un out...</td>\n",
       "      <td>&lt;p&gt;¿Cuál es la diferencia entre un &lt;code&gt;inner...</td>\n",
       "      <td>&lt;mysql&gt;&lt;sql&gt;&lt;join&gt;</td>\n",
       "      <td>97</td>\n",
       "      <td>53627</td>\n",
       "    </tr>\n",
       "    <tr>\n",
       "      <th>3</th>\n",
       "      <td>29177</td>\n",
       "      <td>¿Por qué es considerado una mala práctica util...</td>\n",
       "      <td>&lt;p&gt;La mayoría de nosotros decimos, (muchas vec...</td>\n",
       "      <td>&lt;variables&gt;&lt;variables-globales&gt;&lt;patrones-de-di...</td>\n",
       "      <td>89</td>\n",
       "      <td>9987</td>\n",
       "    </tr>\n",
       "    <tr>\n",
       "      <th>4</th>\n",
       "      <td>142</td>\n",
       "      <td>Validar un email en JavaScript que acepte todo...</td>\n",
       "      <td>&lt;h3&gt;Pregunta&lt;/h3&gt;\\n\\n&lt;p&gt;¿Cómo validar un e-mai...</td>\n",
       "      <td>&lt;javascript&gt;&lt;validación&gt;&lt;email&gt;&lt;regex&gt;</td>\n",
       "      <td>87</td>\n",
       "      <td>73129</td>\n",
       "    </tr>\n",
       "  </tbody>\n",
       "</table>\n",
       "</div>"
      ],
      "text/plain": [
       "      id                                             titulo  \\\n",
       "0  18232              ¿Cómo evitar la inyección SQL en PHP?   \n",
       "1    197  ¿Por qué mis programas no pueden hacer cálculo...   \n",
       "2     36  ¿Cuál es la diferencia entre un inner y un out...   \n",
       "3  29177  ¿Por qué es considerado una mala práctica util...   \n",
       "4    142  Validar un email en JavaScript que acepte todo...   \n",
       "\n",
       "                                             questao  \\\n",
       "0  <p>Las sentencias dinámicas son sentencias SQL...   \n",
       "1  <p>Unas veces los cálculos funcionan correctam...   \n",
       "2  <p>¿Cuál es la diferencia entre un <code>inner...   \n",
       "3  <p>La mayoría de nosotros decimos, (muchas vec...   \n",
       "4  <h3>Pregunta</h3>\\n\\n<p>¿Cómo validar un e-mai...   \n",
       "\n",
       "                                                tags  pontuacao  visualizacoes  \n",
       "0        <php><mysql><sql><seguridad><inyección-sql>        169          38614  \n",
       "1   <matemáticas><coma-flotante><lenguaje-agnóstico>        141           3860  \n",
       "2                                 <mysql><sql><join>         97          53627  \n",
       "3  <variables><variables-globales><patrones-de-di...         89           9987  \n",
       "4             <javascript><validación><email><regex>         87          73129  "
      ]
     },
     "execution_count": 4,
     "metadata": {},
     "output_type": "execute_result"
    }
   ],
   "source": [
    "columns_to_replace = {\n",
    "    atual_label: replace_label\n",
    "    for atual_label, replace_label in zip(spanish_data.columns, portuguese_data.columns)\n",
    "}\n",
    "\n",
    "spanish_data = spanish_data.rename(columns=columns_to_replace)\n",
    "spanish_data.head()"
   ]
  },
  {
   "cell_type": "code",
   "execution_count": 5,
   "id": "d30b2a87-04cf-45ff-8a4f-4f3d25726e67",
   "metadata": {},
   "outputs": [
    {
     "data": {
      "text/plain": [
       "'<p>Se eu fizer o <em><a href=\"http://pt.wikipedia.org/wiki/Fun%C3%A7%C3%A3o_de_embaralhamento_criptogr%C3%A1fico\" rel=\"noreferrer\">hash</a></em> de senhas antes de armazená-las em meu banco de dados é suficiente para evitar que elas sejam recuperadas por alguém?</p>\\n\\n<p>Estou falando apenas da recuperação diretamente do banco de dados e não qualquer outro tipo de ataque, como <a href=\"http://pt.wikipedia.org/wiki/Ataque_de_for%C3%A7a_bruta\" rel=\"noreferrer\">força bruta</a> na página de login da aplicação, <em><a href=\"http://pt.wikipedia.org/wiki/Keylogger\" rel=\"noreferrer\">keylogger</a></em> no cliente e <a href=\"http://pt.wikipedia.org/wiki/Criptoan%C3%A1lise_de_mangueira_de_borracha\" rel=\"noreferrer\">criptoanálise <em>rubberhose</em></a>. Qualquer forma de <em>hash</em> não vai impedir esses ataques.</p>\\n\\n<p>Tenho preocupação em dificultar ou até impossibilitar a obtenção das senhas originais caso o banco de dados seja comprometido. Como dar maior garantia de segurança neste aspecto?</p>\\n\\n<p>Quais preocupações adicionais evitariam o acesso às senhas? Existem formas melhores de fazer esse <em>hash</em>?</p>\\n'"
      ]
     },
     "execution_count": 5,
     "metadata": {},
     "output_type": "execute_result"
    }
   ],
   "source": [
    "portuguese_data.questao[0]"
   ]
  },
  {
   "cell_type": "code",
   "execution_count": 6,
   "id": "9bae37e0-e7a5-40b3-9c23-13ccec6e0968",
   "metadata": {},
   "outputs": [
    {
     "data": {
      "text/plain": [
       "'<p>Here is a piece of C++ code that seems very peculiar. For some strange reason, sorting the data miraculously makes the code almost six times faster.</p>\\n\\n<pre class=\"lang-cpp prettyprint-override\"><code>#include &lt;algorithm&gt;\\n#include &lt;ctime&gt;\\n#include &lt;iostream&gt;\\n\\nint main()\\n{\\n    // Generate data\\n    const unsigned arraySize = 32768;\\n    int data[arraySize];\\n\\n    for (unsigned c = 0; c &lt; arraySize; ++c)\\n        data[c] = std::rand() % 256;\\n\\n    // !!! With this, the next loop runs faster\\n    std::sort(data, data + arraySize);\\n\\n    // Test\\n    clock_t start = clock();\\n    long long sum = 0;\\n\\n    for (unsigned i = 0; i &lt; 100000; ++i)\\n    {\\n        // Primary loop\\n        for (unsigned c = 0; c &lt; arraySize; ++c)\\n        {\\n            if (data[c] &gt;= 128)\\n                sum += data[c];\\n        }\\n    }\\n\\n    double elapsedTime = static_cast&lt;double&gt;(clock() - start) / CLOCKS_PER_SEC;\\n\\n    std::cout &lt;&lt; elapsedTime &lt;&lt; std::endl;\\n    std::cout &lt;&lt; \"sum = \" &lt;&lt; sum &lt;&lt; std::endl;\\n}\\n</code></pre>\\n\\n<ul>\\n<li>Without <code>std::sort(data, data + arraySize);</code>, the code runs in 11.54 seconds.</li>\\n<li>With the sorted data, the code runs in 1.93 seconds.</li>\\n</ul>\\n\\n<p>Initially, I thought this might be just a language or compiler anomaly. So I tried it in Java.</p>\\n\\n<pre class=\"lang-java prettyprint-override\"><code>import java.util.Arrays;\\nimport java.util.Random;\\n\\npublic class Main\\n{\\n    public static void main(String[] args)\\n    {\\n        // Generate data\\n        int arraySize = 32768;\\n        int data[] = new int[arraySize];\\n\\n        Random rnd = new Random(0);\\n        for (int c = 0; c &lt; arraySize; ++c)\\n            data[c] = rnd.nextInt() % 256;\\n\\n        // !!! With this, the next loop runs faster\\n        Arrays.sort(data);\\n\\n        // Test\\n        long start = System.nanoTime();\\n        long sum = 0;\\n\\n        for (int i = 0; i &lt; 100000; ++i)\\n        {\\n            // Primary loop\\n            for (int c = 0; c &lt; arraySize; ++c)\\n            {\\n                if (data[c] &gt;= 128)\\n                    sum += data[c];\\n            }\\n        }\\n\\n        System.out.println((System.nanoTime() - start) / 1000000000.0);\\n        System.out.println(\"sum = \" + sum);\\n    }\\n}\\n</code></pre>\\n\\n<p>With a somewhat similar but less extreme result.</p>\\n\\n<hr>\\n\\n<p>My first thought was that sorting brings the data into the cache, but then I thought how silly that is because the array was just generated.</p>\\n\\n<ul>\\n<li>What is going on?</li>\\n<li>Why is it faster to process a sorted array than an unsorted array?</li>\\n<li>The code is summing up some independent terms, and the order should not matter.</li>\\n</ul>\\n'"
      ]
     },
     "execution_count": 6,
     "metadata": {},
     "output_type": "execute_result"
    }
   ],
   "source": [
    "english_data.questao[0]"
   ]
  },
  {
   "cell_type": "code",
   "execution_count": 7,
   "id": "4c8cd8b2-5967-4dc1-9ed6-8b8641cf2be0",
   "metadata": {},
   "outputs": [
    {
     "data": {
      "text/plain": [
       "'<p>Las sentencias dinámicas son sentencias SQL que se crean como cadenas de texto (strings) y en las que se insertan/concatenan valores obtenidos de alguna fuente (normalmente proveniente del usuario), lo que puede hacer que sean vulnerables a inyección SQL si no se sanean las entradas, como por ejemplo:</p>\\n\\n<pre><code>$id_usuario = $_POST[\"id\"];\\n\\nmysql_query(\"SELECT * FROM usuarios WHERE id = $id_usuario\");\\n</code></pre>\\n\\n<p>Eso es un ejemplo de una vulnerabilidad grave en la seguridad de una aplicación (web o no) porque si el usuario introdujese un valor como <code>1; DROP TABLE usuarios;--</code> nos encontraríamos con que la sentencia ejecutada sería:</p>\\n\\n<pre><code>SELECT * FROM usuarios WHERE id = 1; DROP TABLE usuarios;--\\n</code></pre>\\n\\n<p>Y se eliminaría la tabla Usuarios con todos los datos contenidos en ella. </p>\\n\\n<p><strong>¿Cómo puedo evitar que la inyección SQL ocurra en PHP?</strong></p>\\n'"
      ]
     },
     "execution_count": 7,
     "metadata": {},
     "output_type": "execute_result"
    }
   ],
   "source": [
    "spanish_data.questao[0]"
   ]
  },
  {
   "cell_type": "code",
   "execution_count": 8,
   "id": "3bd1c9d6-ac24-4b5f-8d96-a926a0f96688",
   "metadata": {},
   "outputs": [
    {
     "name": "stdout",
     "output_type": "stream",
     "text": [
      "(500, 6)\n",
      "(500, 6)\n",
      "(500, 6)\n"
     ]
    }
   ],
   "source": [
    "print(portuguese_data.shape)\n",
    "print(english_data.shape)\n",
    "print(spanish_data.shape)"
   ]
  },
  {
   "cell_type": "code",
   "execution_count": 9,
   "id": "16734329-441a-4d77-96ad-0851ea587e2d",
   "metadata": {},
   "outputs": [],
   "source": [
    "import re\n",
    "\n",
    "code_regex = re.compile(r'<code>(.|\\n)*?</code>', re.IGNORECASE)\n",
    "tags_regex = re.compile(r'<.*?>', re.IGNORECASE)\n",
    "punctuation_regex = re.compile(r'[^a-zà-ú_ -]', re.IGNORECASE)\n",
    "space_regex = re.compile(r'\\s+', re.IGNORECASE)"
   ]
  },
  {
   "cell_type": "code",
   "execution_count": 10,
   "id": "c4aa2c48-3017-4b01-aee3-560af1ea974f",
   "metadata": {},
   "outputs": [],
   "source": [
    "def treatment_pipeline(dataset):\n",
    "    dataset_copy = dataset.copy(deep=True)\n",
    "\n",
    "    dataset_copy['questao'] = dataset_copy.questao.str.lower()\n",
    "    dataset_copy['questao'] = dataset_copy.questao.replace(code_regex, '', regex=True)\n",
    "    dataset_copy['questao'] = dataset_copy.questao.replace(tags_regex, '', regex=True)\n",
    "    dataset_copy['questao'] = dataset_copy.questao.replace(punctuation_regex, ' ', regex=True)\n",
    "    dataset_copy['questao'] = dataset_copy.questao.replace(space_regex, ' ', regex=True)\n",
    "    \n",
    "    return dataset_copy"
   ]
  },
  {
   "cell_type": "code",
   "execution_count": 11,
   "id": "0357b7a1-d670-4b65-af69-f7d7fb826ff5",
   "metadata": {},
   "outputs": [
    {
     "data": {
      "text/plain": [
       "'se eu fizer o hash de senhas antes de armazená-las em meu banco de dados é suficiente para evitar que elas sejam recuperadas por alguém estou falando apenas da recuperação diretamente do banco de dados e não qualquer outro tipo de ataque como força bruta na página de login da aplicação keylogger no cliente e criptoanálise rubberhose qualquer forma de hash não vai impedir esses ataques tenho preocupação em dificultar ou até impossibilitar a obtenção das senhas originais caso o banco de dados seja comprometido como dar maior garantia de segurança neste aspecto quais preocupações adicionais evitariam o acesso às senhas existem formas melhores de fazer esse hash '"
      ]
     },
     "execution_count": 11,
     "metadata": {},
     "output_type": "execute_result"
    }
   ],
   "source": [
    "portuguese_data_v1 = treatment_pipeline(portuguese_data)\n",
    "portuguese_data_v1.questao[0]"
   ]
  },
  {
   "cell_type": "code",
   "execution_count": 12,
   "id": "cefefc2e-eab0-40b2-b405-383a8bfcbf5e",
   "metadata": {},
   "outputs": [
    {
     "data": {
      "text/plain": [
       "'here is a piece of c code that seems very peculiar for some strange reason sorting the data miraculously makes the code almost six times faster without the code runs in seconds with the sorted data the code runs in seconds initially i thought this might be just a language or compiler anomaly so i tried it in java with a somewhat similar but less extreme result my first thought was that sorting brings the data into the cache but then i thought how silly that is because the array was just generated what is going on why is it faster to process a sorted array than an unsorted array the code is summing up some independent terms and the order should not matter '"
      ]
     },
     "execution_count": 12,
     "metadata": {},
     "output_type": "execute_result"
    }
   ],
   "source": [
    "english_data_v1 = treatment_pipeline(english_data)\n",
    "english_data_v1.questao[0]"
   ]
  },
  {
   "cell_type": "code",
   "execution_count": 13,
   "id": "c325f18d-4dee-407b-9bee-d0eaa76145c6",
   "metadata": {},
   "outputs": [
    {
     "data": {
      "text/plain": [
       "'las sentencias dinámicas son sentencias sql que se crean como cadenas de texto strings y en las que se insertan concatenan valores obtenidos de alguna fuente normalmente proveniente del usuario lo que puede hacer que sean vulnerables a inyección sql si no se sanean las entradas como por ejemplo eso es un ejemplo de una vulnerabilidad grave en la seguridad de una aplicación web o no porque si el usuario introdujese un valor como nos encontraríamos con que la sentencia ejecutada sería y se eliminaría la tabla usuarios con todos los datos contenidos en ella cómo puedo evitar que la inyección sql ocurra en php '"
      ]
     },
     "execution_count": 13,
     "metadata": {},
     "output_type": "execute_result"
    }
   ],
   "source": [
    "spanish_data_v1 = treatment_pipeline(spanish_data)\n",
    "spanish_data_v1.questao[0]"
   ]
  },
  {
   "cell_type": "code",
   "execution_count": 14,
   "id": "a9622e01-e786-4e6f-8e0d-7ec8ff296d62",
   "metadata": {},
   "outputs": [],
   "source": [
    "portuguese_data_v2 = portuguese_data_v1.copy(deep=True)\n",
    "english_data_v2 = english_data_v1.copy(deep=True)\n",
    "spanish_data_v2 = spanish_data_v1.copy(deep=True)\n",
    "\n",
    "portuguese_data_v2['language'] = 'portuguese'\n",
    "english_data_v2['language'] = 'english'\n",
    "spanish_data_v2['language'] = 'spanish'"
   ]
  },
  {
   "cell_type": "code",
   "execution_count": 15,
   "id": "8d413fdf-b95f-4057-8580-89354a3e8457",
   "metadata": {},
   "outputs": [],
   "source": [
    "from sklearn.model_selection import train_test_split\n",
    "\n",
    "SEED = 42\n",
    "\n",
    "port_train, port_test = train_test_split(portuguese_data_v2.questao,\n",
    "                                         random_state=SEED,\n",
    "                                         test_size=0.2)\n",
    "\n",
    "eng_train, eng_test = train_test_split(english_data_v2.questao,\n",
    "                                       random_state=SEED,\n",
    "                                       test_size=0.2)\n",
    "\n",
    "esp_train, esp_test = train_test_split(spanish_data_v2.questao,\n",
    "                                       random_state=SEED,\n",
    "                                       test_size=0.2)"
   ]
  },
  {
   "cell_type": "code",
   "execution_count": 16,
   "id": "3345325e-fece-4d93-a5c2-3d6cde033021",
   "metadata": {},
   "outputs": [],
   "source": [
    "from nltk.tokenize import WhitespaceTokenizer\n",
    "from nltk.lm.preprocessing import padded_everygram_pipeline\n",
    "\n",
    "\n",
    "def preprocess_pipeline(dataset):\n",
    "    full_text = ' '.join(dataset)\n",
    "    tokens = WhitespaceTokenizer().tokenize(full_text)\n",
    "    \n",
    "    return padded_everygram_pipeline(2, tokens)"
   ]
  },
  {
   "cell_type": "code",
   "execution_count": 17,
   "id": "2d4d67b5-66cc-4201-9fb4-9a3652fa8781",
   "metadata": {},
   "outputs": [],
   "source": [
    "from nltk.lm import MLE\n",
    "\n",
    "\n",
    "def get_fited_model(dataset, model_class_ = MLE):\n",
    "    dataset_bigrams, vocab = preprocess_pipeline(dataset)\n",
    "\n",
    "    _model = model_class_(2)\n",
    "    _model.fit(dataset_bigrams, vocab)\n",
    "    \n",
    "    return _model"
   ]
  },
  {
   "cell_type": "code",
   "execution_count": 18,
   "id": "c759f9a2-24e1-48df-8fed-a6dab1ceedaf",
   "metadata": {},
   "outputs": [],
   "source": [
    "from nltk.util import bigrams\n",
    "from nltk.lm.preprocessing import pad_both_ends\n",
    "\n",
    "\n",
    "def get_phrase_perplexity(_model, phrase):\n",
    "    words = WhitespaceTokenizer().tokenize(phrase)\n",
    "    words_fakechar = [list(pad_both_ends(word, n=2)) for word in words]\n",
    "    _bigrams = [list(bigrams(word)) for word in words_fakechar]\n",
    "    \n",
    "    phrase_perplexity = sum([_model.perplexity(_bigram) for _bigram in _bigrams])\n",
    "    \n",
    "    return phrase_perplexity"
   ]
  },
  {
   "cell_type": "code",
   "execution_count": 19,
   "id": "a1192bb7-bd73-44ff-a31f-55c493a99057",
   "metadata": {},
   "outputs": [],
   "source": [
    "portuguese_model_mle = get_fited_model(port_train)\n",
    "english_model_mle = get_fited_model(eng_train)\n",
    "spanish_model_mle = get_fited_model(esp_train)"
   ]
  },
  {
   "cell_type": "code",
   "execution_count": 20,
   "id": "1e681749-f4e0-43da-9f15-bcc0c9742aa8",
   "metadata": {},
   "outputs": [],
   "source": [
    "from nltk.lm import Laplace\n",
    "\n",
    "portuguese_model_laplace = get_fited_model(port_train, Laplace)\n",
    "english_model_laplace = get_fited_model(eng_train, Laplace)\n",
    "spanish_model_laplace = get_fited_model(esp_train, Laplace)"
   ]
  },
  {
   "cell_type": "code",
   "execution_count": 21,
   "id": "00492a9b-87a6-42c5-b9b8-2f7ab0cdcc01",
   "metadata": {},
   "outputs": [],
   "source": [
    "from operator import itemgetter\n",
    "import numpy as np\n",
    "\n",
    "\n",
    "def classify_language(dataset):\n",
    "    predicted = []\n",
    "\n",
    "    for phrase in dataset:\n",
    "        _class = [\n",
    "            ('portuguese', get_phrase_perplexity(portuguese_model_laplace, phrase)),\n",
    "            ('english', get_phrase_perplexity(english_model_laplace, phrase)),\n",
    "            ('spanish', get_phrase_perplexity(spanish_model_laplace, phrase)),\n",
    "        ]\n",
    "        \n",
    "        predicted_class = min(_class, key=itemgetter(1))\n",
    "        predicted.append(predicted_class[0])\n",
    "        \n",
    "    return np.array(predicted)"
   ]
  },
  {
   "cell_type": "code",
   "execution_count": 22,
   "id": "803f9e54-96e3-4b65-b6e5-2960cf5b48f4",
   "metadata": {},
   "outputs": [],
   "source": [
    "predicted_port = classify_language(port_test)\n",
    "predicted_eng = classify_language(eng_test)\n",
    "predicted_esp = classify_language(esp_test)"
   ]
  },
  {
   "cell_type": "code",
   "execution_count": 23,
   "id": "e86d75d3-ac3b-4a51-9915-ff18def05cfc",
   "metadata": {},
   "outputs": [
    {
     "name": "stdout",
     "output_type": "stream",
     "text": [
      "Portuguese Accuracy: 100.00%\n",
      "English Accuracy: 100.00%\n",
      "Spanish Accuracy: 97.00%\n"
     ]
    }
   ],
   "source": [
    "print('Portuguese Accuracy: %.2f%%' % ((predicted_port == 'portuguese').sum() * 100 / len(port_test)))\n",
    "print('English Accuracy: %.2f%%' % ((predicted_eng == 'english').sum() * 100 / len(eng_test)))\n",
    "print('Spanish Accuracy: %.2f%%' % ((predicted_esp == 'spanish').sum() * 100 / len(esp_test)))"
   ]
  },
  {
   "cell_type": "code",
   "execution_count": null,
   "id": "db3d4e5f-2339-406e-adab-eec642d32298",
   "metadata": {},
   "outputs": [],
   "source": []
  }
 ],
 "metadata": {
  "kernelspec": {
   "display_name": "Python 3 (ipykernel)",
   "language": "python",
   "name": "python3"
  },
  "language_info": {
   "codemirror_mode": {
    "name": "ipython",
    "version": 3
   },
   "file_extension": ".py",
   "mimetype": "text/x-python",
   "name": "python",
   "nbconvert_exporter": "python",
   "pygments_lexer": "ipython3",
   "version": "3.10.5"
  }
 },
 "nbformat": 4,
 "nbformat_minor": 5
}
