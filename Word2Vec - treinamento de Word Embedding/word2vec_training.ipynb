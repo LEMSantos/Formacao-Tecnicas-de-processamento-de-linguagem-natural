{
  "nbformat": 4,
  "nbformat_minor": 0,
  "metadata": {
    "colab": {
      "name": "word2vec_training.ipynb",
      "provenance": []
    },
    "kernelspec": {
      "name": "python3",
      "display_name": "Python 3"
    },
    "language_info": {
      "name": "python"
    }
  },
  "cells": [
    {
      "cell_type": "code",
      "source": [
        "# !python -m spacy download pt_core_news_sm"
      ],
      "metadata": {
        "id": "G_Ri1lfJCT-B"
      },
      "execution_count": 1,
      "outputs": []
    },
    {
      "cell_type": "code",
      "execution_count": 2,
      "metadata": {
        "colab": {
          "base_uri": "https://localhost:8080/",
          "height": 224
        },
        "id": "rk5vq9mEAU1-",
        "outputId": "5b8f537e-2385-45b9-dcdb-cb5620ba28b2"
      },
      "outputs": [
        {
          "output_type": "stream",
          "name": "stdout",
          "text": [
            "(90000, 6)\n"
          ]
        },
        {
          "output_type": "execute_result",
          "data": {
            "text/plain": [
              "                                               title  \\\n",
              "0  Após polêmica, Marine Le Pen diz que abomina n...   \n",
              "1  Macron e Le Pen vão ao 2º turno na França, em ...   \n",
              "2  Apesar de larga vitória nas legislativas, Macr...   \n",
              "3  Governo antecipa balanço, e Alckmin anuncia qu...   \n",
              "4  Após queda em maio, a atividade econômica sobe...   \n",
              "\n",
              "                                                text        date   category  \\\n",
              "0  A candidata da direita nacionalista à Presidên...  2017-04-28      mundo   \n",
              "1  O centrista independente Emmanuel Macron e a d...  2017-04-23      mundo   \n",
              "2  As eleições legislativas deste domingo (19) na...  2017-06-19      mundo   \n",
              "3  O número de ocorrências de homicídios dolosos ...  2015-07-24  cotidiano   \n",
              "4  A economia cresceu 0,25% no segundo trimestre,...  2017-08-17    mercado   \n",
              "\n",
              "  subcategory                                               link  \n",
              "0         NaN  http://www1.folha.uol.com.br/mundo/2017/04/187...  \n",
              "1         NaN  http://www1.folha.uol.com.br/mundo/2017/04/187...  \n",
              "2         NaN  http://www1.folha.uol.com.br/mundo/2017/06/189...  \n",
              "3         NaN  http://www1.folha.uol.com.br/cotidiano/2015/07...  \n",
              "4         NaN  http://www1.folha.uol.com.br/mercado/2017/08/1...  "
            ],
            "text/html": [
              "\n",
              "  <div id=\"df-cb483b22-ff1c-45e9-9103-b26ac9aa8322\">\n",
              "    <div class=\"colab-df-container\">\n",
              "      <div>\n",
              "<style scoped>\n",
              "    .dataframe tbody tr th:only-of-type {\n",
              "        vertical-align: middle;\n",
              "    }\n",
              "\n",
              "    .dataframe tbody tr th {\n",
              "        vertical-align: top;\n",
              "    }\n",
              "\n",
              "    .dataframe thead th {\n",
              "        text-align: right;\n",
              "    }\n",
              "</style>\n",
              "<table border=\"1\" class=\"dataframe\">\n",
              "  <thead>\n",
              "    <tr style=\"text-align: right;\">\n",
              "      <th></th>\n",
              "      <th>title</th>\n",
              "      <th>text</th>\n",
              "      <th>date</th>\n",
              "      <th>category</th>\n",
              "      <th>subcategory</th>\n",
              "      <th>link</th>\n",
              "    </tr>\n",
              "  </thead>\n",
              "  <tbody>\n",
              "    <tr>\n",
              "      <th>0</th>\n",
              "      <td>Após polêmica, Marine Le Pen diz que abomina n...</td>\n",
              "      <td>A candidata da direita nacionalista à Presidên...</td>\n",
              "      <td>2017-04-28</td>\n",
              "      <td>mundo</td>\n",
              "      <td>NaN</td>\n",
              "      <td>http://www1.folha.uol.com.br/mundo/2017/04/187...</td>\n",
              "    </tr>\n",
              "    <tr>\n",
              "      <th>1</th>\n",
              "      <td>Macron e Le Pen vão ao 2º turno na França, em ...</td>\n",
              "      <td>O centrista independente Emmanuel Macron e a d...</td>\n",
              "      <td>2017-04-23</td>\n",
              "      <td>mundo</td>\n",
              "      <td>NaN</td>\n",
              "      <td>http://www1.folha.uol.com.br/mundo/2017/04/187...</td>\n",
              "    </tr>\n",
              "    <tr>\n",
              "      <th>2</th>\n",
              "      <td>Apesar de larga vitória nas legislativas, Macr...</td>\n",
              "      <td>As eleições legislativas deste domingo (19) na...</td>\n",
              "      <td>2017-06-19</td>\n",
              "      <td>mundo</td>\n",
              "      <td>NaN</td>\n",
              "      <td>http://www1.folha.uol.com.br/mundo/2017/06/189...</td>\n",
              "    </tr>\n",
              "    <tr>\n",
              "      <th>3</th>\n",
              "      <td>Governo antecipa balanço, e Alckmin anuncia qu...</td>\n",
              "      <td>O número de ocorrências de homicídios dolosos ...</td>\n",
              "      <td>2015-07-24</td>\n",
              "      <td>cotidiano</td>\n",
              "      <td>NaN</td>\n",
              "      <td>http://www1.folha.uol.com.br/cotidiano/2015/07...</td>\n",
              "    </tr>\n",
              "    <tr>\n",
              "      <th>4</th>\n",
              "      <td>Após queda em maio, a atividade econômica sobe...</td>\n",
              "      <td>A economia cresceu 0,25% no segundo trimestre,...</td>\n",
              "      <td>2017-08-17</td>\n",
              "      <td>mercado</td>\n",
              "      <td>NaN</td>\n",
              "      <td>http://www1.folha.uol.com.br/mercado/2017/08/1...</td>\n",
              "    </tr>\n",
              "  </tbody>\n",
              "</table>\n",
              "</div>\n",
              "      <button class=\"colab-df-convert\" onclick=\"convertToInteractive('df-cb483b22-ff1c-45e9-9103-b26ac9aa8322')\"\n",
              "              title=\"Convert this dataframe to an interactive table.\"\n",
              "              style=\"display:none;\">\n",
              "        \n",
              "  <svg xmlns=\"http://www.w3.org/2000/svg\" height=\"24px\"viewBox=\"0 0 24 24\"\n",
              "       width=\"24px\">\n",
              "    <path d=\"M0 0h24v24H0V0z\" fill=\"none\"/>\n",
              "    <path d=\"M18.56 5.44l.94 2.06.94-2.06 2.06-.94-2.06-.94-.94-2.06-.94 2.06-2.06.94zm-11 1L8.5 8.5l.94-2.06 2.06-.94-2.06-.94L8.5 2.5l-.94 2.06-2.06.94zm10 10l.94 2.06.94-2.06 2.06-.94-2.06-.94-.94-2.06-.94 2.06-2.06.94z\"/><path d=\"M17.41 7.96l-1.37-1.37c-.4-.4-.92-.59-1.43-.59-.52 0-1.04.2-1.43.59L10.3 9.45l-7.72 7.72c-.78.78-.78 2.05 0 2.83L4 21.41c.39.39.9.59 1.41.59.51 0 1.02-.2 1.41-.59l7.78-7.78 2.81-2.81c.8-.78.8-2.07 0-2.86zM5.41 20L4 18.59l7.72-7.72 1.47 1.35L5.41 20z\"/>\n",
              "  </svg>\n",
              "      </button>\n",
              "      \n",
              "  <style>\n",
              "    .colab-df-container {\n",
              "      display:flex;\n",
              "      flex-wrap:wrap;\n",
              "      gap: 12px;\n",
              "    }\n",
              "\n",
              "    .colab-df-convert {\n",
              "      background-color: #E8F0FE;\n",
              "      border: none;\n",
              "      border-radius: 50%;\n",
              "      cursor: pointer;\n",
              "      display: none;\n",
              "      fill: #1967D2;\n",
              "      height: 32px;\n",
              "      padding: 0 0 0 0;\n",
              "      width: 32px;\n",
              "    }\n",
              "\n",
              "    .colab-df-convert:hover {\n",
              "      background-color: #E2EBFA;\n",
              "      box-shadow: 0px 1px 2px rgba(60, 64, 67, 0.3), 0px 1px 3px 1px rgba(60, 64, 67, 0.15);\n",
              "      fill: #174EA6;\n",
              "    }\n",
              "\n",
              "    [theme=dark] .colab-df-convert {\n",
              "      background-color: #3B4455;\n",
              "      fill: #D2E3FC;\n",
              "    }\n",
              "\n",
              "    [theme=dark] .colab-df-convert:hover {\n",
              "      background-color: #434B5C;\n",
              "      box-shadow: 0px 1px 3px 1px rgba(0, 0, 0, 0.15);\n",
              "      filter: drop-shadow(0px 1px 2px rgba(0, 0, 0, 0.3));\n",
              "      fill: #FFFFFF;\n",
              "    }\n",
              "  </style>\n",
              "\n",
              "      <script>\n",
              "        const buttonEl =\n",
              "          document.querySelector('#df-cb483b22-ff1c-45e9-9103-b26ac9aa8322 button.colab-df-convert');\n",
              "        buttonEl.style.display =\n",
              "          google.colab.kernel.accessAllowed ? 'block' : 'none';\n",
              "\n",
              "        async function convertToInteractive(key) {\n",
              "          const element = document.querySelector('#df-cb483b22-ff1c-45e9-9103-b26ac9aa8322');\n",
              "          const dataTable =\n",
              "            await google.colab.kernel.invokeFunction('convertToInteractive',\n",
              "                                                     [key], {});\n",
              "          if (!dataTable) return;\n",
              "\n",
              "          const docLinkHtml = 'Like what you see? Visit the ' +\n",
              "            '<a target=\"_blank\" href=https://colab.research.google.com/notebooks/data_table.ipynb>data table notebook</a>'\n",
              "            + ' to learn more about interactive tables.';\n",
              "          element.innerHTML = '';\n",
              "          dataTable['output_type'] = 'display_data';\n",
              "          await google.colab.output.renderOutput(dataTable, element);\n",
              "          const docLink = document.createElement('div');\n",
              "          docLink.innerHTML = docLinkHtml;\n",
              "          element.appendChild(docLink);\n",
              "        }\n",
              "      </script>\n",
              "    </div>\n",
              "  </div>\n",
              "  "
            ]
          },
          "metadata": {},
          "execution_count": 2
        }
      ],
      "source": [
        "import pandas as pd\n",
        "\n",
        "articles_train = pd.read_csv('/content/drive/MyDrive/curso_word2vec/data/treino.csv')\n",
        "print(articles_train.shape)\n",
        "articles_train.head()"
      ]
    },
    {
      "cell_type": "code",
      "source": [
        "import spacy\n",
        "\n",
        "nlp = spacy.load(\"pt_core_news_sm\")\n",
        "nlp"
      ],
      "metadata": {
        "colab": {
          "base_uri": "https://localhost:8080/"
        },
        "id": "VZHTSnl8BVya",
        "outputId": "ab44edab-7184-4f68-bbd2-fc0ab131b9c7"
      },
      "execution_count": 3,
      "outputs": [
        {
          "output_type": "execute_result",
          "data": {
            "text/plain": [
              "<spacy.lang.pt.Portuguese at 0x7f8784d43dd0>"
            ]
          },
          "metadata": {},
          "execution_count": 3
        }
      ]
    },
    {
      "cell_type": "code",
      "source": [
        "titles = (title.lower() for title in articles_train.title)"
      ],
      "metadata": {
        "id": "8LkkGYP3GkM5"
      },
      "execution_count": 4,
      "outputs": []
    },
    {
      "cell_type": "code",
      "source": [
        "def preprocessing_pipeline(doc):\n",
        "  valid_tokens = [token.text for token in doc if not token.is_stop and token.is_alpha]\n",
        "  return ' '.join(valid_tokens) if len(valid_tokens) > 2 else None"
      ],
      "metadata": {
        "id": "hWptpm3WC4pV"
      },
      "execution_count": 5,
      "outputs": []
    },
    {
      "cell_type": "code",
      "source": [
        "text = 'Rio  132132 de $$$$) %%% Janeiro é uma cidade maravilhosa!!!'\n",
        "doc = nlp(text)\n",
        "\n",
        "preprocessing_pipeline(doc)"
      ],
      "metadata": {
        "colab": {
          "base_uri": "https://localhost:8080/",
          "height": 35
        },
        "id": "jmQVlBNqI2Ie",
        "outputId": "784a5c70-c1eb-4114-bb81-9bd73c5d9333"
      },
      "execution_count": 6,
      "outputs": [
        {
          "output_type": "execute_result",
          "data": {
            "text/plain": [
              "'Rio Janeiro cidade maravilhosa'"
            ],
            "application/vnd.google.colaboratory.intrinsic+json": {
              "type": "string"
            }
          },
          "metadata": {},
          "execution_count": 6
        }
      ]
    },
    {
      "cell_type": "code",
      "source": [
        "preprocessed_titles = [preprocessing_pipeline(doc) for doc in nlp.pipe(titles, batch_size=1000, n_process=-1)]"
      ],
      "metadata": {
        "id": "l09n131wJMGu"
      },
      "execution_count": 7,
      "outputs": []
    },
    {
      "cell_type": "code",
      "source": [
        "titles_df = pd.DataFrame({'title': preprocessed_titles})\n",
        "titles_df = titles_df.dropna().drop_duplicates()\n",
        "print(titles_df.shape)\n",
        "titles_df.head()"
      ],
      "metadata": {
        "colab": {
          "base_uri": "https://localhost:8080/",
          "height": 224
        },
        "id": "lDY4QFw4LruL",
        "outputId": "bea3c9d1-6227-40fb-b4bb-49434fac91fd"
      },
      "execution_count": 8,
      "outputs": [
        {
          "output_type": "stream",
          "name": "stdout",
          "text": [
            "(84466, 1)\n"
          ]
        },
        {
          "output_type": "execute_result",
          "data": {
            "text/plain": [
              "                                               title\n",
              "0  polêmica marine le pen abomina negacionistas h...\n",
              "1  macron le pen turno frança revés siglas tradic...\n",
              "2  apesar larga vitória legislativas macron terá ...\n",
              "3  governo antecipa balanço alckmin anuncia queda...\n",
              "4       queda maio atividade econômica sobe junho bc"
            ],
            "text/html": [
              "\n",
              "  <div id=\"df-9f664d5a-f926-4f37-9a21-636cc1cdd983\">\n",
              "    <div class=\"colab-df-container\">\n",
              "      <div>\n",
              "<style scoped>\n",
              "    .dataframe tbody tr th:only-of-type {\n",
              "        vertical-align: middle;\n",
              "    }\n",
              "\n",
              "    .dataframe tbody tr th {\n",
              "        vertical-align: top;\n",
              "    }\n",
              "\n",
              "    .dataframe thead th {\n",
              "        text-align: right;\n",
              "    }\n",
              "</style>\n",
              "<table border=\"1\" class=\"dataframe\">\n",
              "  <thead>\n",
              "    <tr style=\"text-align: right;\">\n",
              "      <th></th>\n",
              "      <th>title</th>\n",
              "    </tr>\n",
              "  </thead>\n",
              "  <tbody>\n",
              "    <tr>\n",
              "      <th>0</th>\n",
              "      <td>polêmica marine le pen abomina negacionistas h...</td>\n",
              "    </tr>\n",
              "    <tr>\n",
              "      <th>1</th>\n",
              "      <td>macron le pen turno frança revés siglas tradic...</td>\n",
              "    </tr>\n",
              "    <tr>\n",
              "      <th>2</th>\n",
              "      <td>apesar larga vitória legislativas macron terá ...</td>\n",
              "    </tr>\n",
              "    <tr>\n",
              "      <th>3</th>\n",
              "      <td>governo antecipa balanço alckmin anuncia queda...</td>\n",
              "    </tr>\n",
              "    <tr>\n",
              "      <th>4</th>\n",
              "      <td>queda maio atividade econômica sobe junho bc</td>\n",
              "    </tr>\n",
              "  </tbody>\n",
              "</table>\n",
              "</div>\n",
              "      <button class=\"colab-df-convert\" onclick=\"convertToInteractive('df-9f664d5a-f926-4f37-9a21-636cc1cdd983')\"\n",
              "              title=\"Convert this dataframe to an interactive table.\"\n",
              "              style=\"display:none;\">\n",
              "        \n",
              "  <svg xmlns=\"http://www.w3.org/2000/svg\" height=\"24px\"viewBox=\"0 0 24 24\"\n",
              "       width=\"24px\">\n",
              "    <path d=\"M0 0h24v24H0V0z\" fill=\"none\"/>\n",
              "    <path d=\"M18.56 5.44l.94 2.06.94-2.06 2.06-.94-2.06-.94-.94-2.06-.94 2.06-2.06.94zm-11 1L8.5 8.5l.94-2.06 2.06-.94-2.06-.94L8.5 2.5l-.94 2.06-2.06.94zm10 10l.94 2.06.94-2.06 2.06-.94-2.06-.94-.94-2.06-.94 2.06-2.06.94z\"/><path d=\"M17.41 7.96l-1.37-1.37c-.4-.4-.92-.59-1.43-.59-.52 0-1.04.2-1.43.59L10.3 9.45l-7.72 7.72c-.78.78-.78 2.05 0 2.83L4 21.41c.39.39.9.59 1.41.59.51 0 1.02-.2 1.41-.59l7.78-7.78 2.81-2.81c.8-.78.8-2.07 0-2.86zM5.41 20L4 18.59l7.72-7.72 1.47 1.35L5.41 20z\"/>\n",
              "  </svg>\n",
              "      </button>\n",
              "      \n",
              "  <style>\n",
              "    .colab-df-container {\n",
              "      display:flex;\n",
              "      flex-wrap:wrap;\n",
              "      gap: 12px;\n",
              "    }\n",
              "\n",
              "    .colab-df-convert {\n",
              "      background-color: #E8F0FE;\n",
              "      border: none;\n",
              "      border-radius: 50%;\n",
              "      cursor: pointer;\n",
              "      display: none;\n",
              "      fill: #1967D2;\n",
              "      height: 32px;\n",
              "      padding: 0 0 0 0;\n",
              "      width: 32px;\n",
              "    }\n",
              "\n",
              "    .colab-df-convert:hover {\n",
              "      background-color: #E2EBFA;\n",
              "      box-shadow: 0px 1px 2px rgba(60, 64, 67, 0.3), 0px 1px 3px 1px rgba(60, 64, 67, 0.15);\n",
              "      fill: #174EA6;\n",
              "    }\n",
              "\n",
              "    [theme=dark] .colab-df-convert {\n",
              "      background-color: #3B4455;\n",
              "      fill: #D2E3FC;\n",
              "    }\n",
              "\n",
              "    [theme=dark] .colab-df-convert:hover {\n",
              "      background-color: #434B5C;\n",
              "      box-shadow: 0px 1px 3px 1px rgba(0, 0, 0, 0.15);\n",
              "      filter: drop-shadow(0px 1px 2px rgba(0, 0, 0, 0.3));\n",
              "      fill: #FFFFFF;\n",
              "    }\n",
              "  </style>\n",
              "\n",
              "      <script>\n",
              "        const buttonEl =\n",
              "          document.querySelector('#df-9f664d5a-f926-4f37-9a21-636cc1cdd983 button.colab-df-convert');\n",
              "        buttonEl.style.display =\n",
              "          google.colab.kernel.accessAllowed ? 'block' : 'none';\n",
              "\n",
              "        async function convertToInteractive(key) {\n",
              "          const element = document.querySelector('#df-9f664d5a-f926-4f37-9a21-636cc1cdd983');\n",
              "          const dataTable =\n",
              "            await google.colab.kernel.invokeFunction('convertToInteractive',\n",
              "                                                     [key], {});\n",
              "          if (!dataTable) return;\n",
              "\n",
              "          const docLinkHtml = 'Like what you see? Visit the ' +\n",
              "            '<a target=\"_blank\" href=https://colab.research.google.com/notebooks/data_table.ipynb>data table notebook</a>'\n",
              "            + ' to learn more about interactive tables.';\n",
              "          element.innerHTML = '';\n",
              "          dataTable['output_type'] = 'display_data';\n",
              "          await google.colab.output.renderOutput(dataTable, element);\n",
              "          const docLink = document.createElement('div');\n",
              "          docLink.innerHTML = docLinkHtml;\n",
              "          element.appendChild(docLink);\n",
              "        }\n",
              "      </script>\n",
              "    </div>\n",
              "  </div>\n",
              "  "
            ]
          },
          "metadata": {},
          "execution_count": 8
        }
      ]
    },
    {
      "cell_type": "code",
      "source": [
        "def get_tokens_generator():\n",
        "  return [title.split(' ') for title in titles_df.title]"
      ],
      "metadata": {
        "id": "P80YSu8JVjZo"
      },
      "execution_count": 9,
      "outputs": []
    },
    {
      "cell_type": "code",
      "source": [
        "import logging\n",
        "from gensim.models import Word2Vec\n",
        "\n",
        "logging.basicConfig(format='%(asctime)s : - %(message)s', level=logging.INFO)\n",
        "\n",
        "w2v_model = Word2Vec(sg = 0, window = 2, size = 300,\n",
        "                     min_count = 5, alpha = 0.03, min_alpha = 0.007)\n",
        "\n",
        "w2v_model"
      ],
      "metadata": {
        "colab": {
          "base_uri": "https://localhost:8080/"
        },
        "id": "ooabfyPAMiGb",
        "outputId": "a2e65741-a59e-4f5e-dcab-3176bf12cdc3"
      },
      "execution_count": 10,
      "outputs": [
        {
          "output_type": "execute_result",
          "data": {
            "text/plain": [
              "<gensim.models.word2vec.Word2Vec at 0x7f8781b15fd0>"
            ]
          },
          "metadata": {},
          "execution_count": 10
        }
      ]
    },
    {
      "cell_type": "code",
      "source": [
        "tokens = get_tokens_generator()\n",
        "w2v_model.build_vocab(tokens, progress_per=5000)"
      ],
      "metadata": {
        "colab": {
          "base_uri": "https://localhost:8080/"
        },
        "id": "KQ-x8DQiQKmJ",
        "outputId": "d60b557c-5e83-404a-ef04-adbacedcc629"
      },
      "execution_count": 11,
      "outputs": [
        {
          "output_type": "stream",
          "name": "stderr",
          "text": [
            "2022-07-13 12:58:33,524 : - collecting all words and their counts\n",
            "2022-07-13 12:58:33,526 : - PROGRESS: at sentence #0, processed 0 words, keeping 0 word types\n",
            "2022-07-13 12:58:33,545 : - PROGRESS: at sentence #5000, processed 31930 words, keeping 10193 word types\n",
            "2022-07-13 12:58:33,561 : - PROGRESS: at sentence #10000, processed 63848 words, keeping 14989 word types\n",
            "2022-07-13 12:58:33,577 : - PROGRESS: at sentence #15000, processed 95753 words, keeping 18279 word types\n",
            "2022-07-13 12:58:33,594 : - PROGRESS: at sentence #20000, processed 127689 words, keeping 21033 word types\n",
            "2022-07-13 12:58:33,610 : - PROGRESS: at sentence #25000, processed 159589 words, keeping 23491 word types\n",
            "2022-07-13 12:58:33,628 : - PROGRESS: at sentence #30000, processed 191554 words, keeping 25494 word types\n",
            "2022-07-13 12:58:33,646 : - PROGRESS: at sentence #35000, processed 223412 words, keeping 27330 word types\n",
            "2022-07-13 12:58:33,662 : - PROGRESS: at sentence #40000, processed 255282 words, keeping 29053 word types\n",
            "2022-07-13 12:58:33,682 : - PROGRESS: at sentence #45000, processed 287297 words, keeping 30606 word types\n",
            "2022-07-13 12:58:33,702 : - PROGRESS: at sentence #50000, processed 319258 words, keeping 31964 word types\n",
            "2022-07-13 12:58:33,720 : - PROGRESS: at sentence #55000, processed 351437 words, keeping 33270 word types\n",
            "2022-07-13 12:58:33,738 : - PROGRESS: at sentence #60000, processed 383579 words, keeping 34520 word types\n",
            "2022-07-13 12:58:33,757 : - PROGRESS: at sentence #65000, processed 415565 words, keeping 35643 word types\n",
            "2022-07-13 12:58:33,777 : - PROGRESS: at sentence #70000, processed 447646 words, keeping 36719 word types\n",
            "2022-07-13 12:58:33,796 : - PROGRESS: at sentence #75000, processed 479568 words, keeping 37802 word types\n",
            "2022-07-13 12:58:33,821 : - PROGRESS: at sentence #80000, processed 511645 words, keeping 38814 word types\n",
            "2022-07-13 12:58:33,844 : - collected 39693 word types from a corpus of 540242 raw words and 84466 sentences\n",
            "2022-07-13 12:58:33,846 : - Loading a fresh vocabulary\n",
            "2022-07-13 12:58:33,896 : - effective_min_count=5 retains 12924 unique words (32% of original 39693, drops 26769)\n",
            "2022-07-13 12:58:33,901 : - effective_min_count=5 leaves 495223 word corpus (91% of original 540242, drops 45019)\n",
            "2022-07-13 12:58:33,949 : - deleting the raw counts dictionary of 39693 items\n",
            "2022-07-13 12:58:33,953 : - sample=0.001 downsamples 8 most-common words\n",
            "2022-07-13 12:58:33,955 : - downsampling leaves estimated 486147 word corpus (98.2% of prior 495223)\n",
            "2022-07-13 12:58:34,014 : - estimated required memory for 12924 words and 300 dimensions: 37479600 bytes\n",
            "2022-07-13 12:58:34,016 : - resetting layer weights\n"
          ]
        }
      ]
    },
    {
      "cell_type": "code",
      "source": [
        "w2v_model.corpus_count\n",
        "len(tokens)"
      ],
      "metadata": {
        "colab": {
          "base_uri": "https://localhost:8080/"
        },
        "id": "WK9xK0njmuI9",
        "outputId": "32019062-a8ea-44bd-efac-d429a4a26b32"
      },
      "execution_count": 12,
      "outputs": [
        {
          "output_type": "execute_result",
          "data": {
            "text/plain": [
              "84466"
            ]
          },
          "metadata": {},
          "execution_count": 12
        }
      ]
    },
    {
      "cell_type": "code",
      "source": [
        "w2v_model.train(tokens, total_examples=w2v_model.corpus_count,\n",
        "                epochs=30)"
      ],
      "metadata": {
        "colab": {
          "base_uri": "https://localhost:8080/"
        },
        "id": "WEzerpSxT5NL",
        "outputId": "351e40de-c181-4ed8-ae64-d89dc8bd2b00"
      },
      "execution_count": 13,
      "outputs": [
        {
          "output_type": "stream",
          "name": "stderr",
          "text": [
            "2022-07-13 12:58:36,808 : - training model with 3 workers on 12924 vocabulary and 300 features, using sg=0 hs=0 sample=0.001 negative=5 window=2\n",
            "2022-07-13 12:58:37,829 : - EPOCH 1 - PROGRESS: at 64.82% examples, 313820 words/s, in_qsize 5, out_qsize 0\n",
            "2022-07-13 12:58:38,298 : - worker thread finished; awaiting finish of 2 more threads\n",
            "2022-07-13 12:58:38,341 : - worker thread finished; awaiting finish of 1 more threads\n",
            "2022-07-13 12:58:38,358 : - worker thread finished; awaiting finish of 0 more threads\n",
            "2022-07-13 12:58:38,360 : - EPOCH - 1 : training on 540242 raw words (486091 effective words) took 1.5s, 316951 effective words/s\n",
            "2022-07-13 12:58:39,424 : - EPOCH 2 - PROGRESS: at 66.65% examples, 308303 words/s, in_qsize 4, out_qsize 1\n",
            "2022-07-13 12:58:39,815 : - worker thread finished; awaiting finish of 2 more threads\n",
            "2022-07-13 12:58:39,851 : - worker thread finished; awaiting finish of 1 more threads\n",
            "2022-07-13 12:58:39,857 : - worker thread finished; awaiting finish of 0 more threads\n",
            "2022-07-13 12:58:39,858 : - EPOCH - 2 : training on 540242 raw words (486130 effective words) took 1.5s, 327382 effective words/s\n",
            "2022-07-13 12:58:40,882 : - EPOCH 3 - PROGRESS: at 63.02% examples, 303454 words/s, in_qsize 5, out_qsize 0\n",
            "2022-07-13 12:58:41,331 : - worker thread finished; awaiting finish of 2 more threads\n",
            "2022-07-13 12:58:41,360 : - worker thread finished; awaiting finish of 1 more threads\n",
            "2022-07-13 12:58:41,367 : - worker thread finished; awaiting finish of 0 more threads\n",
            "2022-07-13 12:58:41,368 : - EPOCH - 3 : training on 540242 raw words (486129 effective words) took 1.5s, 325411 effective words/s\n",
            "2022-07-13 12:58:42,405 : - EPOCH 4 - PROGRESS: at 66.69% examples, 317546 words/s, in_qsize 5, out_qsize 0\n",
            "2022-07-13 12:58:42,836 : - worker thread finished; awaiting finish of 2 more threads\n",
            "2022-07-13 12:58:42,843 : - worker thread finished; awaiting finish of 1 more threads\n",
            "2022-07-13 12:58:42,858 : - worker thread finished; awaiting finish of 0 more threads\n",
            "2022-07-13 12:58:42,860 : - EPOCH - 4 : training on 540242 raw words (486133 effective words) took 1.5s, 329542 effective words/s\n",
            "2022-07-13 12:58:43,896 : - EPOCH 5 - PROGRESS: at 66.67% examples, 317033 words/s, in_qsize 5, out_qsize 0\n",
            "2022-07-13 12:58:44,325 : - worker thread finished; awaiting finish of 2 more threads\n",
            "2022-07-13 12:58:44,330 : - worker thread finished; awaiting finish of 1 more threads\n",
            "2022-07-13 12:58:44,354 : - worker thread finished; awaiting finish of 0 more threads\n",
            "2022-07-13 12:58:44,356 : - EPOCH - 5 : training on 540242 raw words (486123 effective words) took 1.5s, 328291 effective words/s\n",
            "2022-07-13 12:58:45,411 : - EPOCH 6 - PROGRESS: at 68.53% examples, 319493 words/s, in_qsize 5, out_qsize 0\n",
            "2022-07-13 12:58:45,779 : - worker thread finished; awaiting finish of 2 more threads\n",
            "2022-07-13 12:58:45,800 : - worker thread finished; awaiting finish of 1 more threads\n",
            "2022-07-13 12:58:45,823 : - worker thread finished; awaiting finish of 0 more threads\n",
            "2022-07-13 12:58:45,824 : - EPOCH - 6 : training on 540242 raw words (486179 effective words) took 1.5s, 334097 effective words/s\n",
            "2022-07-13 12:58:46,877 : - EPOCH 7 - PROGRESS: at 68.53% examples, 321039 words/s, in_qsize 5, out_qsize 0\n",
            "2022-07-13 12:58:47,225 : - worker thread finished; awaiting finish of 2 more threads\n",
            "2022-07-13 12:58:47,271 : - worker thread finished; awaiting finish of 1 more threads\n",
            "2022-07-13 12:58:47,285 : - worker thread finished; awaiting finish of 0 more threads\n",
            "2022-07-13 12:58:47,287 : - EPOCH - 7 : training on 540242 raw words (486126 effective words) took 1.4s, 336021 effective words/s\n",
            "2022-07-13 12:58:48,345 : - EPOCH 8 - PROGRESS: at 68.53% examples, 319163 words/s, in_qsize 5, out_qsize 0\n",
            "2022-07-13 12:58:48,747 : - worker thread finished; awaiting finish of 2 more threads\n",
            "2022-07-13 12:58:48,766 : - worker thread finished; awaiting finish of 1 more threads\n",
            "2022-07-13 12:58:48,770 : - worker thread finished; awaiting finish of 0 more threads\n",
            "2022-07-13 12:58:48,773 : - EPOCH - 8 : training on 540242 raw words (486109 effective words) took 1.5s, 330530 effective words/s\n",
            "2022-07-13 12:58:49,792 : - EPOCH 9 - PROGRESS: at 66.68% examples, 322125 words/s, in_qsize 4, out_qsize 1\n",
            "2022-07-13 12:58:50,186 : - worker thread finished; awaiting finish of 2 more threads\n",
            "2022-07-13 12:58:50,217 : - worker thread finished; awaiting finish of 1 more threads\n",
            "2022-07-13 12:58:50,225 : - worker thread finished; awaiting finish of 0 more threads\n",
            "2022-07-13 12:58:50,226 : - EPOCH - 9 : training on 540242 raw words (486248 effective words) took 1.4s, 337794 effective words/s\n",
            "2022-07-13 12:58:51,280 : - EPOCH 10 - PROGRESS: at 68.51% examples, 320150 words/s, in_qsize 5, out_qsize 0\n",
            "2022-07-13 12:58:51,685 : - worker thread finished; awaiting finish of 2 more threads\n",
            "2022-07-13 12:58:51,705 : - worker thread finished; awaiting finish of 1 more threads\n",
            "2022-07-13 12:58:51,718 : - worker thread finished; awaiting finish of 0 more threads\n",
            "2022-07-13 12:58:51,719 : - EPOCH - 10 : training on 540242 raw words (486180 effective words) took 1.5s, 328766 effective words/s\n",
            "2022-07-13 12:58:52,758 : - EPOCH 11 - PROGRESS: at 68.53% examples, 325528 words/s, in_qsize 5, out_qsize 0\n",
            "2022-07-13 12:58:53,149 : - worker thread finished; awaiting finish of 2 more threads\n",
            "2022-07-13 12:58:53,158 : - worker thread finished; awaiting finish of 1 more threads\n",
            "2022-07-13 12:58:53,165 : - worker thread finished; awaiting finish of 0 more threads\n",
            "2022-07-13 12:58:53,166 : - EPOCH - 11 : training on 540242 raw words (486074 effective words) took 1.4s, 339769 effective words/s\n",
            "2022-07-13 12:58:54,183 : - EPOCH 12 - PROGRESS: at 66.65% examples, 323009 words/s, in_qsize 5, out_qsize 0\n",
            "2022-07-13 12:58:54,582 : - worker thread finished; awaiting finish of 2 more threads\n",
            "2022-07-13 12:58:54,607 : - worker thread finished; awaiting finish of 1 more threads\n",
            "2022-07-13 12:58:54,624 : - worker thread finished; awaiting finish of 0 more threads\n",
            "2022-07-13 12:58:54,627 : - EPOCH - 12 : training on 540242 raw words (486196 effective words) took 1.4s, 336200 effective words/s\n",
            "2022-07-13 12:58:55,669 : - EPOCH 13 - PROGRESS: at 68.53% examples, 322842 words/s, in_qsize 5, out_qsize 0\n",
            "2022-07-13 12:58:56,044 : - worker thread finished; awaiting finish of 2 more threads\n",
            "2022-07-13 12:58:56,053 : - worker thread finished; awaiting finish of 1 more threads\n",
            "2022-07-13 12:58:56,063 : - worker thread finished; awaiting finish of 0 more threads\n",
            "2022-07-13 12:58:56,065 : - EPOCH - 13 : training on 540242 raw words (486047 effective words) took 1.4s, 340777 effective words/s\n",
            "2022-07-13 12:58:57,100 : - EPOCH 14 - PROGRESS: at 66.69% examples, 317166 words/s, in_qsize 6, out_qsize 2\n",
            "2022-07-13 12:58:57,451 : - worker thread finished; awaiting finish of 2 more threads\n",
            "2022-07-13 12:58:57,467 : - worker thread finished; awaiting finish of 1 more threads\n",
            "2022-07-13 12:58:57,492 : - worker thread finished; awaiting finish of 0 more threads\n",
            "2022-07-13 12:58:57,494 : - EPOCH - 14 : training on 540242 raw words (486107 effective words) took 1.4s, 343561 effective words/s\n",
            "2022-07-13 12:58:58,530 : - EPOCH 15 - PROGRESS: at 68.53% examples, 325458 words/s, in_qsize 5, out_qsize 0\n",
            "2022-07-13 12:58:58,908 : - worker thread finished; awaiting finish of 2 more threads\n",
            "2022-07-13 12:58:58,946 : - worker thread finished; awaiting finish of 1 more threads\n",
            "2022-07-13 12:58:58,968 : - worker thread finished; awaiting finish of 0 more threads\n",
            "2022-07-13 12:58:58,971 : - EPOCH - 15 : training on 540242 raw words (486120 effective words) took 1.5s, 332081 effective words/s\n",
            "2022-07-13 12:58:59,985 : - EPOCH 16 - PROGRESS: at 66.69% examples, 323700 words/s, in_qsize 5, out_qsize 0\n",
            "2022-07-13 12:59:00,393 : - worker thread finished; awaiting finish of 2 more threads\n",
            "2022-07-13 12:59:00,400 : - worker thread finished; awaiting finish of 1 more threads\n",
            "2022-07-13 12:59:00,409 : - worker thread finished; awaiting finish of 0 more threads\n",
            "2022-07-13 12:59:00,410 : - EPOCH - 16 : training on 540242 raw words (486274 effective words) took 1.4s, 341057 effective words/s\n",
            "2022-07-13 12:59:01,430 : - EPOCH 17 - PROGRESS: at 66.69% examples, 322691 words/s, in_qsize 5, out_qsize 0\n",
            "2022-07-13 12:59:01,826 : - worker thread finished; awaiting finish of 2 more threads\n",
            "2022-07-13 12:59:01,866 : - worker thread finished; awaiting finish of 1 more threads\n",
            "2022-07-13 12:59:01,888 : - worker thread finished; awaiting finish of 0 more threads\n",
            "2022-07-13 12:59:01,890 : - EPOCH - 17 : training on 540242 raw words (486153 effective words) took 1.5s, 332001 effective words/s\n",
            "2022-07-13 12:59:02,916 : - EPOCH 18 - PROGRESS: at 66.69% examples, 319669 words/s, in_qsize 4, out_qsize 1\n",
            "2022-07-13 12:59:03,313 : - worker thread finished; awaiting finish of 2 more threads\n",
            "2022-07-13 12:59:03,332 : - worker thread finished; awaiting finish of 1 more threads\n",
            "2022-07-13 12:59:03,341 : - worker thread finished; awaiting finish of 0 more threads\n",
            "2022-07-13 12:59:03,342 : - EPOCH - 18 : training on 540242 raw words (486122 effective words) took 1.4s, 337955 effective words/s\n",
            "2022-07-13 12:59:04,391 : - EPOCH 19 - PROGRESS: at 68.51% examples, 331300 words/s, in_qsize 5, out_qsize 0\n",
            "2022-07-13 12:59:04,807 : - worker thread finished; awaiting finish of 2 more threads\n",
            "2022-07-13 12:59:04,811 : - worker thread finished; awaiting finish of 1 more threads\n",
            "2022-07-13 12:59:04,815 : - worker thread finished; awaiting finish of 0 more threads\n",
            "2022-07-13 12:59:04,817 : - EPOCH - 19 : training on 540242 raw words (486187 effective words) took 1.4s, 339851 effective words/s\n",
            "2022-07-13 12:59:05,839 : - EPOCH 20 - PROGRESS: at 68.53% examples, 331604 words/s, in_qsize 5, out_qsize 0\n",
            "2022-07-13 12:59:06,228 : - worker thread finished; awaiting finish of 2 more threads\n",
            "2022-07-13 12:59:06,237 : - worker thread finished; awaiting finish of 1 more threads\n",
            "2022-07-13 12:59:06,254 : - worker thread finished; awaiting finish of 0 more threads\n",
            "2022-07-13 12:59:06,255 : - EPOCH - 20 : training on 540242 raw words (486059 effective words) took 1.4s, 342388 effective words/s\n",
            "2022-07-13 12:59:07,290 : - EPOCH 21 - PROGRESS: at 68.53% examples, 326361 words/s, in_qsize 5, out_qsize 0\n",
            "2022-07-13 12:59:07,642 : - worker thread finished; awaiting finish of 2 more threads\n",
            "2022-07-13 12:59:07,672 : - worker thread finished; awaiting finish of 1 more threads\n",
            "2022-07-13 12:59:07,682 : - worker thread finished; awaiting finish of 0 more threads\n",
            "2022-07-13 12:59:07,683 : - EPOCH - 21 : training on 540242 raw words (486171 effective words) took 1.4s, 344210 effective words/s\n",
            "2022-07-13 12:59:08,708 : - EPOCH 22 - PROGRESS: at 66.65% examples, 320227 words/s, in_qsize 5, out_qsize 0\n",
            "2022-07-13 12:59:09,130 : - worker thread finished; awaiting finish of 2 more threads\n",
            "2022-07-13 12:59:09,156 : - worker thread finished; awaiting finish of 1 more threads\n",
            "2022-07-13 12:59:09,165 : - worker thread finished; awaiting finish of 0 more threads\n",
            "2022-07-13 12:59:09,167 : - EPOCH - 22 : training on 540242 raw words (486180 effective words) took 1.5s, 330556 effective words/s\n",
            "2022-07-13 12:59:10,191 : - EPOCH 23 - PROGRESS: at 66.69% examples, 321103 words/s, in_qsize 5, out_qsize 0\n",
            "2022-07-13 12:59:10,591 : - worker thread finished; awaiting finish of 2 more threads\n",
            "2022-07-13 12:59:10,617 : - worker thread finished; awaiting finish of 1 more threads\n",
            "2022-07-13 12:59:10,629 : - worker thread finished; awaiting finish of 0 more threads\n",
            "2022-07-13 12:59:10,632 : - EPOCH - 23 : training on 540242 raw words (486032 effective words) took 1.4s, 335446 effective words/s\n",
            "2022-07-13 12:59:11,689 : - EPOCH 24 - PROGRESS: at 72.22% examples, 336332 words/s, in_qsize 5, out_qsize 0\n",
            "2022-07-13 12:59:12,016 : - worker thread finished; awaiting finish of 2 more threads\n",
            "2022-07-13 12:59:12,030 : - worker thread finished; awaiting finish of 1 more threads\n",
            "2022-07-13 12:59:12,060 : - worker thread finished; awaiting finish of 0 more threads\n",
            "2022-07-13 12:59:12,063 : - EPOCH - 24 : training on 540242 raw words (486273 effective words) took 1.4s, 343024 effective words/s\n",
            "2022-07-13 12:59:13,097 : - EPOCH 25 - PROGRESS: at 70.37% examples, 333961 words/s, in_qsize 5, out_qsize 0\n",
            "2022-07-13 12:59:13,435 : - worker thread finished; awaiting finish of 2 more threads\n",
            "2022-07-13 12:59:13,457 : - worker thread finished; awaiting finish of 1 more threads\n",
            "2022-07-13 12:59:13,482 : - worker thread finished; awaiting finish of 0 more threads\n",
            "2022-07-13 12:59:13,483 : - EPOCH - 25 : training on 540242 raw words (486209 effective words) took 1.4s, 344924 effective words/s\n",
            "2022-07-13 12:59:14,523 : - EPOCH 26 - PROGRESS: at 70.35% examples, 335058 words/s, in_qsize 5, out_qsize 0\n",
            "2022-07-13 12:59:14,859 : - worker thread finished; awaiting finish of 2 more threads\n",
            "2022-07-13 12:59:14,880 : - worker thread finished; awaiting finish of 1 more threads\n",
            "2022-07-13 12:59:14,896 : - worker thread finished; awaiting finish of 0 more threads\n",
            "2022-07-13 12:59:14,898 : - EPOCH - 26 : training on 540242 raw words (486254 effective words) took 1.4s, 348534 effective words/s\n",
            "2022-07-13 12:59:15,935 : - EPOCH 27 - PROGRESS: at 70.35% examples, 334549 words/s, in_qsize 5, out_qsize 0\n",
            "2022-07-13 12:59:16,311 : - worker thread finished; awaiting finish of 2 more threads\n",
            "2022-07-13 12:59:16,321 : - worker thread finished; awaiting finish of 1 more threads\n",
            "2022-07-13 12:59:16,338 : - worker thread finished; awaiting finish of 0 more threads\n",
            "2022-07-13 12:59:16,339 : - EPOCH - 27 : training on 540242 raw words (486183 effective words) took 1.4s, 340919 effective words/s\n",
            "2022-07-13 12:59:17,386 : - EPOCH 28 - PROGRESS: at 68.53% examples, 322164 words/s, in_qsize 6, out_qsize 2\n",
            "2022-07-13 12:59:17,729 : - worker thread finished; awaiting finish of 2 more threads\n",
            "2022-07-13 12:59:17,740 : - worker thread finished; awaiting finish of 1 more threads\n",
            "2022-07-13 12:59:17,752 : - worker thread finished; awaiting finish of 0 more threads\n",
            "2022-07-13 12:59:17,754 : - EPOCH - 28 : training on 540242 raw words (486149 effective words) took 1.4s, 346869 effective words/s\n",
            "2022-07-13 12:59:18,802 : - EPOCH 29 - PROGRESS: at 70.35% examples, 331350 words/s, in_qsize 5, out_qsize 0\n",
            "2022-07-13 12:59:19,145 : - worker thread finished; awaiting finish of 2 more threads\n",
            "2022-07-13 12:59:19,150 : - worker thread finished; awaiting finish of 1 more threads\n",
            "2022-07-13 12:59:19,183 : - worker thread finished; awaiting finish of 0 more threads\n",
            "2022-07-13 12:59:19,186 : - EPOCH - 29 : training on 540242 raw words (486233 effective words) took 1.4s, 343461 effective words/s\n",
            "2022-07-13 12:59:20,263 : - EPOCH 30 - PROGRESS: at 70.37% examples, 321275 words/s, in_qsize 5, out_qsize 0\n",
            "2022-07-13 12:59:20,573 : - worker thread finished; awaiting finish of 2 more threads\n",
            "2022-07-13 12:59:20,610 : - worker thread finished; awaiting finish of 1 more threads\n",
            "2022-07-13 12:59:20,618 : - worker thread finished; awaiting finish of 0 more threads\n",
            "2022-07-13 12:59:20,620 : - EPOCH - 30 : training on 540242 raw words (486194 effective words) took 1.4s, 342194 effective words/s\n",
            "2022-07-13 12:59:20,621 : - training on a 16207260 raw words (14584665 effective words) took 43.8s, 332898 effective words/s\n"
          ]
        },
        {
          "output_type": "execute_result",
          "data": {
            "text/plain": [
              "(14584665, 16207260)"
            ]
          },
          "metadata": {},
          "execution_count": 13
        }
      ]
    },
    {
      "cell_type": "code",
      "source": [
        "w2v_model.wv.most_similar('google')"
      ],
      "metadata": {
        "colab": {
          "base_uri": "https://localhost:8080/"
        },
        "id": "GfhAbrjHW57D",
        "outputId": "a1eb657d-35ac-44a4-c720-f40734d1676d"
      },
      "execution_count": 15,
      "outputs": [
        {
          "output_type": "execute_result",
          "data": {
            "text/plain": [
              "[('apple', 0.6052509546279907),\n",
              " ('facebook', 0.5831785798072815),\n",
              " ('amazon', 0.5123606324195862),\n",
              " ('volkswagen', 0.5003378987312317),\n",
              " ('airbnb', 0.48825982213020325),\n",
              " ('uber', 0.46701881289482117),\n",
              " ('sony', 0.45689961314201355),\n",
              " ('snapchat', 0.4564026892185211),\n",
              " ('software', 0.4501359462738037),\n",
              " ('fbi', 0.44638028740882874)]"
            ]
          },
          "metadata": {},
          "execution_count": 15
        }
      ]
    },
    {
      "cell_type": "code",
      "source": [
        "# Treinamento com estratégia SkipGram\n",
        "\n",
        "w2v_model_skipgram = Word2Vec(sg = 1, window = 5, size = 300,\n",
        "                              min_count = 5, alpha = 0.03, min_alpha = 0.007)\n",
        "\n",
        "w2v_model_skipgram.build_vocab(tokens, progress_per=5000)\n",
        "\n",
        "w2v_model_skipgram.train(tokens, total_examples=w2v_model_skipgram.corpus_count,\n",
        "                         epochs=30)"
      ],
      "metadata": {
        "colab": {
          "base_uri": "https://localhost:8080/"
        },
        "id": "NQ-T8OFeeixI",
        "outputId": "14de9521-b04d-4bbd-cb38-c24d5d695ca8"
      },
      "execution_count": 16,
      "outputs": [
        {
          "output_type": "stream",
          "name": "stderr",
          "text": [
            "2022-07-13 13:29:36,254 : - collecting all words and their counts\n",
            "2022-07-13 13:29:36,258 : - PROGRESS: at sentence #0, processed 0 words, keeping 0 word types\n",
            "2022-07-13 13:29:36,282 : - PROGRESS: at sentence #5000, processed 31930 words, keeping 10193 word types\n",
            "2022-07-13 13:29:36,306 : - PROGRESS: at sentence #10000, processed 63848 words, keeping 14989 word types\n",
            "2022-07-13 13:29:36,329 : - PROGRESS: at sentence #15000, processed 95753 words, keeping 18279 word types\n",
            "2022-07-13 13:29:36,351 : - PROGRESS: at sentence #20000, processed 127689 words, keeping 21033 word types\n",
            "2022-07-13 13:29:36,376 : - PROGRESS: at sentence #25000, processed 159589 words, keeping 23491 word types\n",
            "2022-07-13 13:29:36,402 : - PROGRESS: at sentence #30000, processed 191554 words, keeping 25494 word types\n",
            "2022-07-13 13:29:36,426 : - PROGRESS: at sentence #35000, processed 223412 words, keeping 27330 word types\n",
            "2022-07-13 13:29:36,463 : - PROGRESS: at sentence #40000, processed 255282 words, keeping 29053 word types\n",
            "2022-07-13 13:29:36,527 : - PROGRESS: at sentence #45000, processed 287297 words, keeping 30606 word types\n",
            "2022-07-13 13:29:36,575 : - PROGRESS: at sentence #50000, processed 319258 words, keeping 31964 word types\n",
            "2022-07-13 13:29:36,599 : - PROGRESS: at sentence #55000, processed 351437 words, keeping 33270 word types\n",
            "2022-07-13 13:29:36,636 : - PROGRESS: at sentence #60000, processed 383579 words, keeping 34520 word types\n",
            "2022-07-13 13:29:36,661 : - PROGRESS: at sentence #65000, processed 415565 words, keeping 35643 word types\n",
            "2022-07-13 13:29:36,686 : - PROGRESS: at sentence #70000, processed 447646 words, keeping 36719 word types\n",
            "2022-07-13 13:29:36,714 : - PROGRESS: at sentence #75000, processed 479568 words, keeping 37802 word types\n",
            "2022-07-13 13:29:36,739 : - PROGRESS: at sentence #80000, processed 511645 words, keeping 38814 word types\n",
            "2022-07-13 13:29:36,760 : - collected 39693 word types from a corpus of 540242 raw words and 84466 sentences\n",
            "2022-07-13 13:29:36,764 : - Loading a fresh vocabulary\n",
            "2022-07-13 13:29:36,829 : - effective_min_count=5 retains 12924 unique words (32% of original 39693, drops 26769)\n",
            "2022-07-13 13:29:36,835 : - effective_min_count=5 leaves 495223 word corpus (91% of original 540242, drops 45019)\n",
            "2022-07-13 13:29:36,910 : - deleting the raw counts dictionary of 39693 items\n",
            "2022-07-13 13:29:36,916 : - sample=0.001 downsamples 8 most-common words\n",
            "2022-07-13 13:29:36,920 : - downsampling leaves estimated 486147 word corpus (98.2% of prior 495223)\n",
            "2022-07-13 13:29:37,004 : - estimated required memory for 12924 words and 300 dimensions: 37479600 bytes\n",
            "2022-07-13 13:29:37,008 : - resetting layer weights\n",
            "2022-07-13 13:29:42,094 : - training model with 3 workers on 12924 vocabulary and 300 features, using sg=1 hs=0 sample=0.001 negative=5 window=5\n",
            "2022-07-13 13:29:43,166 : - EPOCH 1 - PROGRESS: at 27.82% examples, 127311 words/s, in_qsize 6, out_qsize 0\n",
            "2022-07-13 13:29:44,171 : - EPOCH 1 - PROGRESS: at 57.46% examples, 134961 words/s, in_qsize 5, out_qsize 0\n",
            "2022-07-13 13:29:45,256 : - EPOCH 1 - PROGRESS: at 87.00% examples, 134181 words/s, in_qsize 5, out_qsize 0\n",
            "2022-07-13 13:29:45,523 : - worker thread finished; awaiting finish of 2 more threads\n",
            "2022-07-13 13:29:45,591 : - worker thread finished; awaiting finish of 1 more threads\n",
            "2022-07-13 13:29:45,639 : - worker thread finished; awaiting finish of 0 more threads\n",
            "2022-07-13 13:29:45,645 : - EPOCH - 1 : training on 540242 raw words (486064 effective words) took 3.5s, 137361 effective words/s\n",
            "2022-07-13 13:29:46,690 : - EPOCH 2 - PROGRESS: at 27.82% examples, 130518 words/s, in_qsize 5, out_qsize 0\n",
            "2022-07-13 13:29:47,773 : - EPOCH 2 - PROGRESS: at 57.46% examples, 131774 words/s, in_qsize 5, out_qsize 0\n",
            "2022-07-13 13:29:48,865 : - EPOCH 2 - PROGRESS: at 88.82% examples, 134571 words/s, in_qsize 4, out_qsize 1\n",
            "2022-07-13 13:29:49,058 : - worker thread finished; awaiting finish of 2 more threads\n",
            "2022-07-13 13:29:49,110 : - worker thread finished; awaiting finish of 1 more threads\n",
            "2022-07-13 13:29:49,149 : - worker thread finished; awaiting finish of 0 more threads\n",
            "2022-07-13 13:29:49,150 : - EPOCH - 2 : training on 540242 raw words (486220 effective words) took 3.5s, 139129 effective words/s\n",
            "2022-07-13 13:29:50,167 : - EPOCH 3 - PROGRESS: at 27.82% examples, 134782 words/s, in_qsize 5, out_qsize 0\n",
            "2022-07-13 13:29:51,223 : - EPOCH 3 - PROGRESS: at 55.62% examples, 131193 words/s, in_qsize 5, out_qsize 0\n",
            "2022-07-13 13:29:52,280 : - EPOCH 3 - PROGRESS: at 85.14% examples, 132871 words/s, in_qsize 5, out_qsize 0\n",
            "2022-07-13 13:29:52,640 : - worker thread finished; awaiting finish of 2 more threads\n",
            "2022-07-13 13:29:52,680 : - worker thread finished; awaiting finish of 1 more threads\n",
            "2022-07-13 13:29:52,683 : - worker thread finished; awaiting finish of 0 more threads\n",
            "2022-07-13 13:29:52,688 : - EPOCH - 3 : training on 540242 raw words (486154 effective words) took 3.5s, 138013 effective words/s\n",
            "2022-07-13 13:29:53,716 : - EPOCH 4 - PROGRESS: at 25.95% examples, 124403 words/s, in_qsize 5, out_qsize 0\n",
            "2022-07-13 13:29:54,762 : - EPOCH 4 - PROGRESS: at 55.60% examples, 131125 words/s, in_qsize 5, out_qsize 0\n",
            "2022-07-13 13:29:55,827 : - EPOCH 4 - PROGRESS: at 85.14% examples, 132502 words/s, in_qsize 5, out_qsize 0\n",
            "2022-07-13 13:29:56,166 : - worker thread finished; awaiting finish of 2 more threads\n",
            "2022-07-13 13:29:56,211 : - worker thread finished; awaiting finish of 1 more threads\n",
            "2022-07-13 13:29:56,250 : - worker thread finished; awaiting finish of 0 more threads\n",
            "2022-07-13 13:29:56,252 : - EPOCH - 4 : training on 540242 raw words (486254 effective words) took 3.5s, 137020 effective words/s\n",
            "2022-07-13 13:29:57,428 : - EPOCH 5 - PROGRESS: at 29.68% examples, 123904 words/s, in_qsize 6, out_qsize 0\n",
            "2022-07-13 13:29:58,512 : - EPOCH 5 - PROGRESS: at 61.14% examples, 132185 words/s, in_qsize 5, out_qsize 0\n",
            "2022-07-13 13:29:59,607 : - EPOCH 5 - PROGRESS: at 92.52% examples, 134650 words/s, in_qsize 5, out_qsize 0\n",
            "2022-07-13 13:29:59,729 : - worker thread finished; awaiting finish of 2 more threads\n",
            "2022-07-13 13:29:59,759 : - worker thread finished; awaiting finish of 1 more threads\n",
            "2022-07-13 13:29:59,774 : - worker thread finished; awaiting finish of 0 more threads\n",
            "2022-07-13 13:29:59,776 : - EPOCH - 5 : training on 540242 raw words (486172 effective words) took 3.5s, 138510 effective words/s\n",
            "2022-07-13 13:30:00,831 : - EPOCH 6 - PROGRESS: at 27.82% examples, 129736 words/s, in_qsize 5, out_qsize 0\n",
            "2022-07-13 13:30:01,946 : - EPOCH 6 - PROGRESS: at 57.46% examples, 129399 words/s, in_qsize 5, out_qsize 0\n",
            "2022-07-13 13:30:03,018 : - EPOCH 6 - PROGRESS: at 88.85% examples, 133767 words/s, in_qsize 5, out_qsize 1\n",
            "2022-07-13 13:30:03,233 : - worker thread finished; awaiting finish of 2 more threads\n",
            "2022-07-13 13:30:03,281 : - worker thread finished; awaiting finish of 1 more threads\n",
            "2022-07-13 13:30:03,321 : - worker thread finished; awaiting finish of 0 more threads\n",
            "2022-07-13 13:30:03,322 : - EPOCH - 6 : training on 540242 raw words (486172 effective words) took 3.5s, 137636 effective words/s\n",
            "2022-07-13 13:30:04,368 : - EPOCH 7 - PROGRESS: at 25.95% examples, 122348 words/s, in_qsize 5, out_qsize 0\n",
            "2022-07-13 13:30:05,397 : - EPOCH 7 - PROGRESS: at 57.46% examples, 135437 words/s, in_qsize 5, out_qsize 0\n",
            "2022-07-13 13:30:06,452 : - EPOCH 7 - PROGRESS: at 87.00% examples, 135804 words/s, in_qsize 5, out_qsize 0\n",
            "2022-07-13 13:30:06,781 : - worker thread finished; awaiting finish of 2 more threads\n",
            "2022-07-13 13:30:06,785 : - worker thread finished; awaiting finish of 1 more threads\n",
            "2022-07-13 13:30:06,849 : - worker thread finished; awaiting finish of 0 more threads\n",
            "2022-07-13 13:30:06,850 : - EPOCH - 7 : training on 540242 raw words (486182 effective words) took 3.5s, 138436 effective words/s\n",
            "2022-07-13 13:30:07,962 : - EPOCH 8 - PROGRESS: at 27.79% examples, 123593 words/s, in_qsize 5, out_qsize 0\n",
            "2022-07-13 13:30:08,972 : - EPOCH 8 - PROGRESS: at 57.46% examples, 132632 words/s, in_qsize 5, out_qsize 0\n",
            "2022-07-13 13:30:10,029 : - EPOCH 8 - PROGRESS: at 87.00% examples, 133848 words/s, in_qsize 5, out_qsize 0\n",
            "2022-07-13 13:30:10,307 : - worker thread finished; awaiting finish of 2 more threads\n",
            "2022-07-13 13:30:10,374 : - worker thread finished; awaiting finish of 1 more threads\n",
            "2022-07-13 13:30:10,410 : - worker thread finished; awaiting finish of 0 more threads\n",
            "2022-07-13 13:30:10,413 : - EPOCH - 8 : training on 540242 raw words (486161 effective words) took 3.5s, 137206 effective words/s\n",
            "2022-07-13 13:30:11,427 : - EPOCH 9 - PROGRESS: at 25.95% examples, 125895 words/s, in_qsize 5, out_qsize 0\n",
            "2022-07-13 13:30:12,430 : - EPOCH 9 - PROGRESS: at 55.60% examples, 134687 words/s, in_qsize 5, out_qsize 0\n",
            "2022-07-13 13:30:13,554 : - EPOCH 9 - PROGRESS: at 85.15% examples, 132310 words/s, in_qsize 6, out_qsize 1\n",
            "2022-07-13 13:30:13,872 : - worker thread finished; awaiting finish of 2 more threads\n",
            "2022-07-13 13:30:13,924 : - worker thread finished; awaiting finish of 1 more threads\n",
            "2022-07-13 13:30:13,960 : - worker thread finished; awaiting finish of 0 more threads\n",
            "2022-07-13 13:30:13,962 : - EPOCH - 9 : training on 540242 raw words (486165 effective words) took 3.5s, 137514 effective words/s\n",
            "2022-07-13 13:30:15,008 : - EPOCH 10 - PROGRESS: at 25.96% examples, 121898 words/s, in_qsize 5, out_qsize 0\n",
            "2022-07-13 13:30:16,010 : - EPOCH 10 - PROGRESS: at 55.60% examples, 132613 words/s, in_qsize 5, out_qsize 0\n",
            "2022-07-13 13:30:17,057 : - EPOCH 10 - PROGRESS: at 83.30% examples, 131350 words/s, in_qsize 5, out_qsize 0\n",
            "2022-07-13 13:30:17,490 : - worker thread finished; awaiting finish of 2 more threads\n",
            "2022-07-13 13:30:17,497 : - worker thread finished; awaiting finish of 1 more threads\n",
            "2022-07-13 13:30:17,550 : - worker thread finished; awaiting finish of 0 more threads\n",
            "2022-07-13 13:30:17,557 : - EPOCH - 10 : training on 540242 raw words (486177 effective words) took 3.6s, 135747 effective words/s\n",
            "2022-07-13 13:30:18,604 : - EPOCH 11 - PROGRESS: at 25.97% examples, 122120 words/s, in_qsize 5, out_qsize 0\n",
            "2022-07-13 13:30:19,637 : - EPOCH 11 - PROGRESS: at 57.46% examples, 135014 words/s, in_qsize 5, out_qsize 0\n",
            "2022-07-13 13:30:20,675 : - EPOCH 11 - PROGRESS: at 85.14% examples, 133337 words/s, in_qsize 5, out_qsize 0\n",
            "2022-07-13 13:30:21,017 : - worker thread finished; awaiting finish of 2 more threads\n",
            "2022-07-13 13:30:21,047 : - worker thread finished; awaiting finish of 1 more threads\n",
            "2022-07-13 13:30:21,072 : - worker thread finished; awaiting finish of 0 more threads\n",
            "2022-07-13 13:30:21,074 : - EPOCH - 11 : training on 540242 raw words (486204 effective words) took 3.5s, 138809 effective words/s\n",
            "2022-07-13 13:30:22,215 : - EPOCH 12 - PROGRESS: at 29.66% examples, 127995 words/s, in_qsize 5, out_qsize 0\n",
            "2022-07-13 13:30:23,276 : - EPOCH 12 - PROGRESS: at 61.16% examples, 135789 words/s, in_qsize 5, out_qsize 0\n",
            "2022-07-13 13:30:24,304 : - EPOCH 12 - PROGRESS: at 90.67% examples, 137134 words/s, in_qsize 5, out_qsize 0\n",
            "2022-07-13 13:30:24,499 : - worker thread finished; awaiting finish of 2 more threads\n",
            "2022-07-13 13:30:24,538 : - worker thread finished; awaiting finish of 1 more threads\n",
            "2022-07-13 13:30:24,560 : - worker thread finished; awaiting finish of 0 more threads\n",
            "2022-07-13 13:30:24,562 : - EPOCH - 12 : training on 540242 raw words (486092 effective words) took 3.5s, 139999 effective words/s\n",
            "2022-07-13 13:30:25,639 : - EPOCH 13 - PROGRESS: at 27.82% examples, 127420 words/s, in_qsize 5, out_qsize 0\n",
            "2022-07-13 13:30:26,734 : - EPOCH 13 - PROGRESS: at 59.32% examples, 133684 words/s, in_qsize 5, out_qsize 0\n",
            "2022-07-13 13:30:27,817 : - EPOCH 13 - PROGRESS: at 90.67% examples, 136143 words/s, in_qsize 5, out_qsize 0\n",
            "2022-07-13 13:30:27,983 : - worker thread finished; awaiting finish of 2 more threads\n",
            "2022-07-13 13:30:28,001 : - worker thread finished; awaiting finish of 1 more threads\n",
            "2022-07-13 13:30:28,066 : - worker thread finished; awaiting finish of 0 more threads\n",
            "2022-07-13 13:30:28,069 : - EPOCH - 13 : training on 540242 raw words (486121 effective words) took 3.5s, 139319 effective words/s\n",
            "2022-07-13 13:30:29,155 : - EPOCH 14 - PROGRESS: at 27.82% examples, 126031 words/s, in_qsize 5, out_qsize 0\n",
            "2022-07-13 13:30:30,199 : - EPOCH 14 - PROGRESS: at 59.32% examples, 136172 words/s, in_qsize 5, out_qsize 0\n",
            "2022-07-13 13:30:31,207 : - EPOCH 14 - PROGRESS: at 90.67% examples, 141165 words/s, in_qsize 5, out_qsize 0\n",
            "2022-07-13 13:30:31,408 : - worker thread finished; awaiting finish of 2 more threads\n",
            "2022-07-13 13:30:31,506 : - worker thread finished; awaiting finish of 1 more threads\n",
            "2022-07-13 13:30:31,512 : - worker thread finished; awaiting finish of 0 more threads\n",
            "2022-07-13 13:30:31,516 : - EPOCH - 14 : training on 540242 raw words (486158 effective words) took 3.4s, 141686 effective words/s\n",
            "2022-07-13 13:30:32,571 : - EPOCH 15 - PROGRESS: at 27.82% examples, 129549 words/s, in_qsize 6, out_qsize 0\n",
            "2022-07-13 13:30:33,665 : - EPOCH 15 - PROGRESS: at 59.32% examples, 134826 words/s, in_qsize 4, out_qsize 1\n",
            "2022-07-13 13:30:34,709 : - EPOCH 15 - PROGRESS: at 90.69% examples, 138647 words/s, in_qsize 5, out_qsize 0\n",
            "2022-07-13 13:30:34,854 : - worker thread finished; awaiting finish of 2 more threads\n",
            "2022-07-13 13:30:34,952 : - worker thread finished; awaiting finish of 1 more threads\n",
            "2022-07-13 13:30:34,964 : - worker thread finished; awaiting finish of 0 more threads\n",
            "2022-07-13 13:30:34,966 : - EPOCH - 15 : training on 540242 raw words (486215 effective words) took 3.4s, 141462 effective words/s\n",
            "2022-07-13 13:30:36,016 : - EPOCH 16 - PROGRESS: at 27.82% examples, 130202 words/s, in_qsize 5, out_qsize 0\n",
            "2022-07-13 13:30:37,053 : - EPOCH 16 - PROGRESS: at 57.46% examples, 134448 words/s, in_qsize 5, out_qsize 0\n",
            "2022-07-13 13:30:38,108 : - EPOCH 16 - PROGRESS: at 87.00% examples, 135124 words/s, in_qsize 5, out_qsize 0\n",
            "2022-07-13 13:30:38,349 : - worker thread finished; awaiting finish of 2 more threads\n",
            "2022-07-13 13:30:38,451 : - worker thread finished; awaiting finish of 1 more threads\n",
            "2022-07-13 13:30:38,456 : - worker thread finished; awaiting finish of 0 more threads\n",
            "2022-07-13 13:30:38,458 : - EPOCH - 16 : training on 540242 raw words (486049 effective words) took 3.5s, 139700 effective words/s\n",
            "2022-07-13 13:30:39,506 : - EPOCH 17 - PROGRESS: at 27.82% examples, 131635 words/s, in_qsize 5, out_qsize 0\n",
            "2022-07-13 13:30:40,551 : - EPOCH 17 - PROGRESS: at 57.46% examples, 134648 words/s, in_qsize 5, out_qsize 0\n",
            "2022-07-13 13:30:41,553 : - EPOCH 17 - PROGRESS: at 87.00% examples, 137628 words/s, in_qsize 5, out_qsize 0\n",
            "2022-07-13 13:30:41,855 : - worker thread finished; awaiting finish of 2 more threads\n",
            "2022-07-13 13:30:41,901 : - worker thread finished; awaiting finish of 1 more threads\n",
            "2022-07-13 13:30:41,909 : - worker thread finished; awaiting finish of 0 more threads\n",
            "2022-07-13 13:30:41,911 : - EPOCH - 17 : training on 540242 raw words (486206 effective words) took 3.4s, 141699 effective words/s\n",
            "2022-07-13 13:30:43,025 : - EPOCH 18 - PROGRESS: at 29.66% examples, 131175 words/s, in_qsize 5, out_qsize 0\n",
            "2022-07-13 13:30:44,037 : - EPOCH 18 - PROGRESS: at 59.32% examples, 136474 words/s, in_qsize 5, out_qsize 0\n",
            "2022-07-13 13:30:45,059 : - EPOCH 18 - PROGRESS: at 88.82% examples, 137898 words/s, in_qsize 5, out_qsize 0\n",
            "2022-07-13 13:30:45,244 : - worker thread finished; awaiting finish of 2 more threads\n",
            "2022-07-13 13:30:45,339 : - worker thread finished; awaiting finish of 1 more threads\n",
            "2022-07-13 13:30:45,357 : - worker thread finished; awaiting finish of 0 more threads\n",
            "2022-07-13 13:30:45,359 : - EPOCH - 18 : training on 540242 raw words (486277 effective words) took 3.4s, 141691 effective words/s\n",
            "2022-07-13 13:30:46,398 : - EPOCH 19 - PROGRESS: at 27.82% examples, 131759 words/s, in_qsize 5, out_qsize 0\n",
            "2022-07-13 13:30:47,401 : - EPOCH 19 - PROGRESS: at 57.46% examples, 137548 words/s, in_qsize 5, out_qsize 0\n",
            "2022-07-13 13:30:48,437 : - EPOCH 19 - PROGRESS: at 87.00% examples, 138011 words/s, in_qsize 5, out_qsize 0\n",
            "2022-07-13 13:30:48,751 : - worker thread finished; awaiting finish of 2 more threads\n",
            "2022-07-13 13:30:48,781 : - worker thread finished; awaiting finish of 1 more threads\n",
            "2022-07-13 13:30:48,791 : - worker thread finished; awaiting finish of 0 more threads\n",
            "2022-07-13 13:30:48,793 : - EPOCH - 19 : training on 540242 raw words (486257 effective words) took 3.4s, 142176 effective words/s\n",
            "2022-07-13 13:30:49,838 : - EPOCH 20 - PROGRESS: at 29.66% examples, 139412 words/s, in_qsize 5, out_qsize 0\n",
            "2022-07-13 13:30:50,934 : - EPOCH 20 - PROGRESS: at 61.16% examples, 139426 words/s, in_qsize 5, out_qsize 0\n",
            "2022-07-13 13:30:51,965 : - EPOCH 20 - PROGRESS: at 90.67% examples, 139471 words/s, in_qsize 5, out_qsize 0\n",
            "2022-07-13 13:30:52,128 : - worker thread finished; awaiting finish of 2 more threads\n",
            "2022-07-13 13:30:52,147 : - worker thread finished; awaiting finish of 1 more threads\n",
            "2022-07-13 13:30:52,173 : - worker thread finished; awaiting finish of 0 more threads\n",
            "2022-07-13 13:30:52,175 : - EPOCH - 20 : training on 540242 raw words (485977 effective words) took 3.4s, 144247 effective words/s\n",
            "2022-07-13 13:30:53,199 : - EPOCH 21 - PROGRESS: at 27.82% examples, 133540 words/s, in_qsize 5, out_qsize 0\n",
            "2022-07-13 13:30:54,231 : - EPOCH 21 - PROGRESS: at 57.44% examples, 136558 words/s, in_qsize 5, out_qsize 0\n",
            "2022-07-13 13:30:55,253 : - EPOCH 21 - PROGRESS: at 88.85% examples, 140928 words/s, in_qsize 5, out_qsize 0\n",
            "2022-07-13 13:30:55,519 : - worker thread finished; awaiting finish of 2 more threads\n",
            "2022-07-13 13:30:55,533 : - worker thread finished; awaiting finish of 1 more threads\n",
            "2022-07-13 13:30:55,551 : - worker thread finished; awaiting finish of 0 more threads\n",
            "2022-07-13 13:30:55,553 : - EPOCH - 21 : training on 540242 raw words (486171 effective words) took 3.4s, 144494 effective words/s\n",
            "2022-07-13 13:30:56,628 : - EPOCH 22 - PROGRESS: at 29.66% examples, 135777 words/s, in_qsize 5, out_qsize 0\n",
            "2022-07-13 13:30:57,661 : - EPOCH 22 - PROGRESS: at 61.16% examples, 141800 words/s, in_qsize 5, out_qsize 0\n",
            "2022-07-13 13:30:58,786 : - EPOCH 22 - PROGRESS: at 92.52% examples, 139791 words/s, in_qsize 5, out_qsize 0\n",
            "2022-07-13 13:30:58,860 : - worker thread finished; awaiting finish of 2 more threads\n",
            "2022-07-13 13:30:58,934 : - worker thread finished; awaiting finish of 1 more threads\n",
            "2022-07-13 13:30:58,958 : - worker thread finished; awaiting finish of 0 more threads\n",
            "2022-07-13 13:30:58,961 : - EPOCH - 22 : training on 540242 raw words (486155 effective words) took 3.4s, 143281 effective words/s\n",
            "2022-07-13 13:31:00,020 : - EPOCH 23 - PROGRESS: at 29.66% examples, 137637 words/s, in_qsize 5, out_qsize 0\n",
            "2022-07-13 13:31:01,028 : - EPOCH 23 - PROGRESS: at 59.32% examples, 140185 words/s, in_qsize 5, out_qsize 0\n",
            "2022-07-13 13:31:02,090 : - EPOCH 23 - PROGRESS: at 90.67% examples, 141510 words/s, in_qsize 5, out_qsize 0\n",
            "2022-07-13 13:31:02,254 : - worker thread finished; awaiting finish of 2 more threads\n",
            "2022-07-13 13:31:02,256 : - worker thread finished; awaiting finish of 1 more threads\n",
            "2022-07-13 13:31:02,333 : - worker thread finished; awaiting finish of 0 more threads\n",
            "2022-07-13 13:31:02,334 : - EPOCH - 23 : training on 540242 raw words (486149 effective words) took 3.4s, 144714 effective words/s\n",
            "2022-07-13 13:31:03,402 : - EPOCH 24 - PROGRESS: at 27.82% examples, 128289 words/s, in_qsize 5, out_qsize 0\n",
            "2022-07-13 13:31:04,497 : - EPOCH 24 - PROGRESS: at 57.46% examples, 129901 words/s, in_qsize 5, out_qsize 0\n",
            "2022-07-13 13:31:05,564 : - EPOCH 24 - PROGRESS: at 74.04% examples, 111963 words/s, in_qsize 6, out_qsize 1\n",
            "2022-07-13 13:31:06,591 : - EPOCH 24 - PROGRESS: at 94.38% examples, 108164 words/s, in_qsize 4, out_qsize 0\n",
            "2022-07-13 13:31:06,653 : - worker thread finished; awaiting finish of 2 more threads\n",
            "2022-07-13 13:31:06,680 : - worker thread finished; awaiting finish of 1 more threads\n",
            "2022-07-13 13:31:06,777 : - worker thread finished; awaiting finish of 0 more threads\n",
            "2022-07-13 13:31:06,784 : - EPOCH - 24 : training on 540242 raw words (486177 effective words) took 4.4s, 109655 effective words/s\n",
            "2022-07-13 13:31:07,811 : - EPOCH 25 - PROGRESS: at 12.97% examples, 62618 words/s, in_qsize 5, out_qsize 0\n",
            "2022-07-13 13:31:08,897 : - EPOCH 25 - PROGRESS: at 29.66% examples, 68775 words/s, in_qsize 5, out_qsize 0\n",
            "2022-07-13 13:31:09,950 : - EPOCH 25 - PROGRESS: at 59.32% examples, 91511 words/s, in_qsize 5, out_qsize 0\n",
            "2022-07-13 13:31:10,990 : - EPOCH 25 - PROGRESS: at 90.69% examples, 105339 words/s, in_qsize 4, out_qsize 1\n",
            "2022-07-13 13:31:11,152 : - worker thread finished; awaiting finish of 2 more threads\n",
            "2022-07-13 13:31:11,168 : - worker thread finished; awaiting finish of 1 more threads\n",
            "2022-07-13 13:31:11,244 : - worker thread finished; awaiting finish of 0 more threads\n",
            "2022-07-13 13:31:11,245 : - EPOCH - 25 : training on 540242 raw words (486234 effective words) took 4.4s, 109498 effective words/s\n",
            "2022-07-13 13:31:12,269 : - EPOCH 26 - PROGRESS: at 27.79% examples, 133930 words/s, in_qsize 5, out_qsize 0\n",
            "2022-07-13 13:31:13,328 : - EPOCH 26 - PROGRESS: at 57.46% examples, 134918 words/s, in_qsize 5, out_qsize 0\n",
            "2022-07-13 13:31:14,445 : - EPOCH 26 - PROGRESS: at 90.69% examples, 138454 words/s, in_qsize 5, out_qsize 0\n",
            "2022-07-13 13:31:14,611 : - worker thread finished; awaiting finish of 2 more threads\n",
            "2022-07-13 13:31:14,631 : - worker thread finished; awaiting finish of 1 more threads\n",
            "2022-07-13 13:31:14,650 : - worker thread finished; awaiting finish of 0 more threads\n",
            "2022-07-13 13:31:14,653 : - EPOCH - 26 : training on 540242 raw words (486171 effective words) took 3.4s, 143308 effective words/s\n",
            "2022-07-13 13:31:15,746 : - EPOCH 27 - PROGRESS: at 29.66% examples, 133304 words/s, in_qsize 5, out_qsize 0\n",
            "2022-07-13 13:31:16,861 : - EPOCH 27 - PROGRESS: at 62.98% examples, 139346 words/s, in_qsize 5, out_qsize 0\n",
            "2022-07-13 13:31:17,904 : - EPOCH 27 - PROGRESS: at 94.38% examples, 141674 words/s, in_qsize 4, out_qsize 0\n",
            "2022-07-13 13:31:17,966 : - worker thread finished; awaiting finish of 2 more threads\n",
            "2022-07-13 13:31:17,988 : - worker thread finished; awaiting finish of 1 more threads\n",
            "2022-07-13 13:31:18,039 : - worker thread finished; awaiting finish of 0 more threads\n",
            "2022-07-13 13:31:18,041 : - EPOCH - 27 : training on 540242 raw words (486067 effective words) took 3.4s, 144036 effective words/s\n",
            "2022-07-13 13:31:19,152 : - EPOCH 28 - PROGRESS: at 29.66% examples, 131458 words/s, in_qsize 4, out_qsize 1\n",
            "2022-07-13 13:31:20,265 : - EPOCH 28 - PROGRESS: at 63.00% examples, 138519 words/s, in_qsize 5, out_qsize 0\n",
            "2022-07-13 13:31:21,299 : - EPOCH 28 - PROGRESS: at 94.38% examples, 141497 words/s, in_qsize 4, out_qsize 0\n",
            "2022-07-13 13:31:21,334 : - worker thread finished; awaiting finish of 2 more threads\n",
            "2022-07-13 13:31:21,343 : - worker thread finished; awaiting finish of 1 more threads\n",
            "2022-07-13 13:31:21,406 : - worker thread finished; awaiting finish of 0 more threads\n",
            "2022-07-13 13:31:21,408 : - EPOCH - 28 : training on 540242 raw words (486233 effective words) took 3.4s, 145073 effective words/s\n",
            "2022-07-13 13:31:22,452 : - EPOCH 29 - PROGRESS: at 27.79% examples, 131050 words/s, in_qsize 5, out_qsize 0\n",
            "2022-07-13 13:31:23,481 : - EPOCH 29 - PROGRESS: at 59.29% examples, 139776 words/s, in_qsize 5, out_qsize 0\n",
            "2022-07-13 13:31:24,491 : - EPOCH 29 - PROGRESS: at 90.67% examples, 143604 words/s, in_qsize 5, out_qsize 0\n",
            "2022-07-13 13:31:24,687 : - worker thread finished; awaiting finish of 2 more threads\n",
            "2022-07-13 13:31:24,753 : - worker thread finished; awaiting finish of 1 more threads\n",
            "2022-07-13 13:31:24,762 : - worker thread finished; awaiting finish of 0 more threads\n",
            "2022-07-13 13:31:24,764 : - EPOCH - 29 : training on 540242 raw words (486029 effective words) took 3.3s, 145462 effective words/s\n",
            "2022-07-13 13:31:25,782 : - EPOCH 30 - PROGRESS: at 25.97% examples, 125608 words/s, in_qsize 5, out_qsize 0\n",
            "2022-07-13 13:31:26,805 : - EPOCH 30 - PROGRESS: at 57.46% examples, 137617 words/s, in_qsize 5, out_qsize 0\n",
            "2022-07-13 13:31:27,871 : - EPOCH 30 - PROGRESS: at 90.67% examples, 142531 words/s, in_qsize 6, out_qsize 0\n",
            "2022-07-13 13:31:28,057 : - worker thread finished; awaiting finish of 2 more threads\n",
            "2022-07-13 13:31:28,121 : - worker thread finished; awaiting finish of 1 more threads\n",
            "2022-07-13 13:31:28,137 : - worker thread finished; awaiting finish of 0 more threads\n",
            "2022-07-13 13:31:28,138 : - EPOCH - 30 : training on 540242 raw words (486104 effective words) took 3.4s, 144682 effective words/s\n",
            "2022-07-13 13:31:28,144 : - training on a 16207260 raw words (14584767 effective words) took 106.0s, 137530 effective words/s\n"
          ]
        },
        {
          "output_type": "execute_result",
          "data": {
            "text/plain": [
              "(14584767, 16207260)"
            ]
          },
          "metadata": {},
          "execution_count": 16
        }
      ]
    },
    {
      "cell_type": "code",
      "source": [
        "w2v_model_skipgram.wv.most_similar('google')"
      ],
      "metadata": {
        "colab": {
          "base_uri": "https://localhost:8080/"
        },
        "id": "9v5x0k3hwCwu",
        "outputId": "5740b7e8-0f99-451e-ac9f-39ebd05117ee"
      },
      "execution_count": 18,
      "outputs": [
        {
          "output_type": "execute_result",
          "data": {
            "text/plain": [
              "[('apple', 0.4207535982131958),\n",
              " ('reguladores', 0.4117451310157776),\n",
              " ('android', 0.4075790047645569),\n",
              " ('waze', 0.3910173773765564),\n",
              " ('buffett', 0.3839324712753296),\n",
              " ('yahoo', 0.37931469082832336),\n",
              " ('bmw', 0.37854450941085815),\n",
              " ('toshiba', 0.3748171329498291),\n",
              " ('concorda', 0.3693023920059204),\n",
              " ('verizon', 0.3638686537742615)]"
            ]
          },
          "metadata": {},
          "execution_count": 18
        }
      ]
    },
    {
      "cell_type": "code",
      "source": [
        "w2v_model.wv.most_similar('google')"
      ],
      "metadata": {
        "colab": {
          "base_uri": "https://localhost:8080/"
        },
        "id": "ubZGrrHGwuHY",
        "outputId": "4bf028bf-0309-4684-8745-a4b0e4a23953"
      },
      "execution_count": 19,
      "outputs": [
        {
          "output_type": "execute_result",
          "data": {
            "text/plain": [
              "[('apple', 0.6052509546279907),\n",
              " ('facebook', 0.5831785798072815),\n",
              " ('amazon', 0.5123606324195862),\n",
              " ('volkswagen', 0.5003378987312317),\n",
              " ('airbnb', 0.48825982213020325),\n",
              " ('uber', 0.46701881289482117),\n",
              " ('sony', 0.45689961314201355),\n",
              " ('snapchat', 0.4564026892185211),\n",
              " ('software', 0.4501359462738037),\n",
              " ('fbi', 0.44638028740882874)]"
            ]
          },
          "metadata": {},
          "execution_count": 19
        }
      ]
    },
    {
      "cell_type": "code",
      "source": [
        "w2v_model_skipgram.wv.most_similar('gm')"
      ],
      "metadata": {
        "colab": {
          "base_uri": "https://localhost:8080/"
        },
        "id": "oTkDiW5bw2gq",
        "outputId": "fc3a2d81-eabe-4cc9-ba1f-8a4ce18e98a1"
      },
      "execution_count": 20,
      "outputs": [
        {
          "output_type": "execute_result",
          "data": {
            "text/plain": [
              "[('metalúrgicos', 0.5786983966827393),\n",
              " ('motors', 0.5443923473358154),\n",
              " ('honda', 0.5299404859542847),\n",
              " ('audi', 0.49667346477508545),\n",
              " ('cubatão', 0.4913884401321411),\n",
              " ('airbag', 0.48963674902915955),\n",
              " ('airbags', 0.4774690270423889),\n",
              " ('montadora', 0.476866215467453),\n",
              " ('mitsubishi', 0.47355473041534424),\n",
              " ('autoguiados', 0.4677491784095764)]"
            ]
          },
          "metadata": {},
          "execution_count": 20
        }
      ]
    },
    {
      "cell_type": "code",
      "source": [
        "w2v_model.wv.most_similar('gm')"
      ],
      "metadata": {
        "colab": {
          "base_uri": "https://localhost:8080/"
        },
        "id": "kK_DtwhlxNoM",
        "outputId": "e76c5da4-7b17-4843-dc48-be1161d6deb3"
      },
      "execution_count": 21,
      "outputs": [
        {
          "output_type": "execute_result",
          "data": {
            "text/plain": [
              "[('chrysler', 0.6754248142242432),\n",
              " ('embraer', 0.6709064245223999),\n",
              " ('volks', 0.6607313752174377),\n",
              " ('braskem', 0.6370549201965332),\n",
              " ('honda', 0.6281957626342773),\n",
              " ('volkswagen', 0.6063649654388428),\n",
              " ('renault', 0.5965393781661987),\n",
              " ('mitsubishi', 0.5942554473876953),\n",
              " ('fiat', 0.5924808979034424),\n",
              " ('toyota', 0.5915037989616394)]"
            ]
          },
          "metadata": {},
          "execution_count": 21
        }
      ]
    },
    {
      "cell_type": "code",
      "source": [
        "w2v_model.wv.save_word2vec_format('/content/drive/MyDrive/curso_word2vec/data/cbow_model.txt', binary=False)\n",
        "w2v_model_skipgram.wv.save_word2vec_format('/content/drive/MyDrive/curso_word2vec/data/skip_model.txt', binary=False)"
      ],
      "metadata": {
        "colab": {
          "base_uri": "https://localhost:8080/"
        },
        "id": "HdxHyt9TxPeb",
        "outputId": "1023b093-96b9-4b8a-8051-576027c0287f"
      },
      "execution_count": 22,
      "outputs": [
        {
          "output_type": "stream",
          "name": "stderr",
          "text": [
            "2022-07-13 13:42:29,613 : - storing 12924x300 projection weights into /content/drive/MyDrive/curso_word2vec/data/cbow_model.txt\n",
            "2022-07-13 13:42:33,170 : - storing 12924x300 projection weights into /content/drive/MyDrive/curso_word2vec/data/skip_model.txt\n"
          ]
        }
      ]
    },
    {
      "cell_type": "code",
      "source": [
        ""
      ],
      "metadata": {
        "id": "y13m51L7y_kB"
      },
      "execution_count": null,
      "outputs": []
    }
  ]
}